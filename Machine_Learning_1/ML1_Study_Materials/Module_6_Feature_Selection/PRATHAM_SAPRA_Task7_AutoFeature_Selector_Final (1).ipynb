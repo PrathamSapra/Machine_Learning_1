{
 "cells": [
  {
   "cell_type": "markdown",
   "metadata": {},
   "source": [
    "# Task 7: AutoFeatureSelector Tool\n",
    "## This task is to test your understanding of various Feature Selection methods outlined in the lecture and the ability to apply this knowledge in a real-world dataset to select best features and also to build an automated feature selection tool as your toolkit\n",
    "\n",
    "### Use your knowledge of different feature selector methods to build an Automatic Feature Selection tool\n",
    "- Pearson Correlation\n",
    "- Chi-Square\n",
    "- RFE\n",
    "- Embedded\n",
    "- Tree (Random Forest)\n",
    "- Tree (Light GBM)"
   ]
  },
  {
   "cell_type": "markdown",
   "metadata": {},
   "source": [
    "### Dataset: FIFA 19 Player Skills\n",
    "#### Attributes: FIFA 2019 players attributes like Age, Nationality, Overall, Potential, Club, Value, Wage, Preferred Foot, International Reputation, Weak Foot, Skill Moves, Work Rate, Position, Jersey Number, Joined, Loaned From, Contract Valid Until, Height, Weight, LS, ST, RS, LW, LF, CF, RF, RW, LAM, CAM, RAM, LM, LCM, CM, RCM, RM, LWB, LDM, CDM, RDM, RWB, LB, LCB, CB, RCB, RB, Crossing, Finishing, Heading, Accuracy, ShortPassing, Volleys, Dribbling, Curve, FKAccuracy, LongPassing, BallControl, Acceleration, SprintSpeed, Agility, Reactions, Balance, ShotPower, Jumping, Stamina, Strength, LongShots, Aggression, Interceptions, Positioning, Vision, Penalties, Composure, Marking, StandingTackle, SlidingTackle, GKDiving, GKHandling, GKKicking, GKPositioning, GKReflexes, and Release Clause."
   ]
  },
  {
   "cell_type": "code",
   "execution_count": 7,
   "metadata": {},
   "outputs": [],
   "source": [
    "%matplotlib inline\n",
    "import numpy as np\n",
    "import pandas as pd \n",
    "import seaborn as sns\n",
    "import matplotlib.pyplot as plt\n",
    "import scipy.stats as ss\n",
    "from collections import Counter\n",
    "import math\n",
    "from scipy import stats"
   ]
  },
  {
   "cell_type": "code",
   "execution_count": 8,
   "metadata": {},
   "outputs": [],
   "source": [
    "player_df = pd.read_csv(r\"D:\\AI GBC\\Machine Learning 1\\Assignments & Tasks\\Task 7 AutoFeatureSelector Tool\\fifa19.csv\")"
   ]
  },
  {
   "cell_type": "code",
   "execution_count": 9,
   "metadata": {},
   "outputs": [],
   "source": [
    "numcols = ['Overall', 'Crossing','Finishing',  'ShortPassing',  'Dribbling','LongPassing', 'BallControl', 'Acceleration','SprintSpeed', 'Agility',  'Stamina','Volleys','FKAccuracy','Reactions','Balance','ShotPower','Strength','LongShots','Aggression','Interceptions']\n",
    "catcols = ['Preferred Foot','Position','Body Type','Nationality','Weak Foot']"
   ]
  },
  {
   "cell_type": "code",
   "execution_count": 10,
   "metadata": {},
   "outputs": [],
   "source": [
    "player_df = player_df[numcols+catcols]"
   ]
  },
  {
   "cell_type": "code",
   "execution_count": 11,
   "metadata": {},
   "outputs": [],
   "source": [
    "traindf = pd.concat([player_df[numcols], pd.get_dummies(player_df[catcols])],axis=1)\n",
    "features = traindf.columns\n",
    "\n",
    "traindf = traindf.dropna()"
   ]
  },
  {
   "cell_type": "code",
   "execution_count": 12,
   "metadata": {},
   "outputs": [],
   "source": [
    "traindf = pd.DataFrame(traindf,columns=features)"
   ]
  },
  {
   "cell_type": "code",
   "execution_count": 13,
   "metadata": {},
   "outputs": [],
   "source": [
    "y = traindf['Overall']>=87\n",
    "X = traindf.copy()\n",
    "del X['Overall']"
   ]
  },
  {
   "cell_type": "code",
   "execution_count": 14,
   "metadata": {},
   "outputs": [
    {
     "data": {
      "text/html": [
       "<div>\n",
       "<style scoped>\n",
       "    .dataframe tbody tr th:only-of-type {\n",
       "        vertical-align: middle;\n",
       "    }\n",
       "\n",
       "    .dataframe tbody tr th {\n",
       "        vertical-align: top;\n",
       "    }\n",
       "\n",
       "    .dataframe thead th {\n",
       "        text-align: right;\n",
       "    }\n",
       "</style>\n",
       "<table border=\"1\" class=\"dataframe\">\n",
       "  <thead>\n",
       "    <tr style=\"text-align: right;\">\n",
       "      <th></th>\n",
       "      <th>Crossing</th>\n",
       "      <th>Finishing</th>\n",
       "      <th>ShortPassing</th>\n",
       "      <th>Dribbling</th>\n",
       "      <th>LongPassing</th>\n",
       "      <th>BallControl</th>\n",
       "      <th>Acceleration</th>\n",
       "      <th>SprintSpeed</th>\n",
       "      <th>Agility</th>\n",
       "      <th>Stamina</th>\n",
       "      <th>...</th>\n",
       "      <th>Nationality_Uganda</th>\n",
       "      <th>Nationality_Ukraine</th>\n",
       "      <th>Nationality_United Arab Emirates</th>\n",
       "      <th>Nationality_United States</th>\n",
       "      <th>Nationality_Uruguay</th>\n",
       "      <th>Nationality_Uzbekistan</th>\n",
       "      <th>Nationality_Venezuela</th>\n",
       "      <th>Nationality_Wales</th>\n",
       "      <th>Nationality_Zambia</th>\n",
       "      <th>Nationality_Zimbabwe</th>\n",
       "    </tr>\n",
       "  </thead>\n",
       "  <tbody>\n",
       "    <tr>\n",
       "      <th>0</th>\n",
       "      <td>84.0</td>\n",
       "      <td>95.0</td>\n",
       "      <td>90.0</td>\n",
       "      <td>97.0</td>\n",
       "      <td>87.0</td>\n",
       "      <td>96.0</td>\n",
       "      <td>91.0</td>\n",
       "      <td>86.0</td>\n",
       "      <td>91.0</td>\n",
       "      <td>72.0</td>\n",
       "      <td>...</td>\n",
       "      <td>False</td>\n",
       "      <td>False</td>\n",
       "      <td>False</td>\n",
       "      <td>False</td>\n",
       "      <td>False</td>\n",
       "      <td>False</td>\n",
       "      <td>False</td>\n",
       "      <td>False</td>\n",
       "      <td>False</td>\n",
       "      <td>False</td>\n",
       "    </tr>\n",
       "    <tr>\n",
       "      <th>1</th>\n",
       "      <td>84.0</td>\n",
       "      <td>94.0</td>\n",
       "      <td>81.0</td>\n",
       "      <td>88.0</td>\n",
       "      <td>77.0</td>\n",
       "      <td>94.0</td>\n",
       "      <td>89.0</td>\n",
       "      <td>91.0</td>\n",
       "      <td>87.0</td>\n",
       "      <td>88.0</td>\n",
       "      <td>...</td>\n",
       "      <td>False</td>\n",
       "      <td>False</td>\n",
       "      <td>False</td>\n",
       "      <td>False</td>\n",
       "      <td>False</td>\n",
       "      <td>False</td>\n",
       "      <td>False</td>\n",
       "      <td>False</td>\n",
       "      <td>False</td>\n",
       "      <td>False</td>\n",
       "    </tr>\n",
       "    <tr>\n",
       "      <th>2</th>\n",
       "      <td>79.0</td>\n",
       "      <td>87.0</td>\n",
       "      <td>84.0</td>\n",
       "      <td>96.0</td>\n",
       "      <td>78.0</td>\n",
       "      <td>95.0</td>\n",
       "      <td>94.0</td>\n",
       "      <td>90.0</td>\n",
       "      <td>96.0</td>\n",
       "      <td>81.0</td>\n",
       "      <td>...</td>\n",
       "      <td>False</td>\n",
       "      <td>False</td>\n",
       "      <td>False</td>\n",
       "      <td>False</td>\n",
       "      <td>False</td>\n",
       "      <td>False</td>\n",
       "      <td>False</td>\n",
       "      <td>False</td>\n",
       "      <td>False</td>\n",
       "      <td>False</td>\n",
       "    </tr>\n",
       "    <tr>\n",
       "      <th>3</th>\n",
       "      <td>17.0</td>\n",
       "      <td>13.0</td>\n",
       "      <td>50.0</td>\n",
       "      <td>18.0</td>\n",
       "      <td>51.0</td>\n",
       "      <td>42.0</td>\n",
       "      <td>57.0</td>\n",
       "      <td>58.0</td>\n",
       "      <td>60.0</td>\n",
       "      <td>43.0</td>\n",
       "      <td>...</td>\n",
       "      <td>False</td>\n",
       "      <td>False</td>\n",
       "      <td>False</td>\n",
       "      <td>False</td>\n",
       "      <td>False</td>\n",
       "      <td>False</td>\n",
       "      <td>False</td>\n",
       "      <td>False</td>\n",
       "      <td>False</td>\n",
       "      <td>False</td>\n",
       "    </tr>\n",
       "    <tr>\n",
       "      <th>4</th>\n",
       "      <td>93.0</td>\n",
       "      <td>82.0</td>\n",
       "      <td>92.0</td>\n",
       "      <td>86.0</td>\n",
       "      <td>91.0</td>\n",
       "      <td>91.0</td>\n",
       "      <td>78.0</td>\n",
       "      <td>76.0</td>\n",
       "      <td>79.0</td>\n",
       "      <td>90.0</td>\n",
       "      <td>...</td>\n",
       "      <td>False</td>\n",
       "      <td>False</td>\n",
       "      <td>False</td>\n",
       "      <td>False</td>\n",
       "      <td>False</td>\n",
       "      <td>False</td>\n",
       "      <td>False</td>\n",
       "      <td>False</td>\n",
       "      <td>False</td>\n",
       "      <td>False</td>\n",
       "    </tr>\n",
       "  </tbody>\n",
       "</table>\n",
       "<p>5 rows × 223 columns</p>\n",
       "</div>"
      ],
      "text/plain": [
       "   Crossing  Finishing  ShortPassing  Dribbling  LongPassing  BallControl  \\\n",
       "0      84.0       95.0          90.0       97.0         87.0         96.0   \n",
       "1      84.0       94.0          81.0       88.0         77.0         94.0   \n",
       "2      79.0       87.0          84.0       96.0         78.0         95.0   \n",
       "3      17.0       13.0          50.0       18.0         51.0         42.0   \n",
       "4      93.0       82.0          92.0       86.0         91.0         91.0   \n",
       "\n",
       "   Acceleration  SprintSpeed  Agility  Stamina  ...  Nationality_Uganda  \\\n",
       "0          91.0         86.0     91.0     72.0  ...               False   \n",
       "1          89.0         91.0     87.0     88.0  ...               False   \n",
       "2          94.0         90.0     96.0     81.0  ...               False   \n",
       "3          57.0         58.0     60.0     43.0  ...               False   \n",
       "4          78.0         76.0     79.0     90.0  ...               False   \n",
       "\n",
       "   Nationality_Ukraine  Nationality_United Arab Emirates  \\\n",
       "0                False                             False   \n",
       "1                False                             False   \n",
       "2                False                             False   \n",
       "3                False                             False   \n",
       "4                False                             False   \n",
       "\n",
       "   Nationality_United States  Nationality_Uruguay  Nationality_Uzbekistan  \\\n",
       "0                      False                False                   False   \n",
       "1                      False                False                   False   \n",
       "2                      False                False                   False   \n",
       "3                      False                False                   False   \n",
       "4                      False                False                   False   \n",
       "\n",
       "   Nationality_Venezuela  Nationality_Wales  Nationality_Zambia  \\\n",
       "0                  False              False               False   \n",
       "1                  False              False               False   \n",
       "2                  False              False               False   \n",
       "3                  False              False               False   \n",
       "4                  False              False               False   \n",
       "\n",
       "   Nationality_Zimbabwe  \n",
       "0                 False  \n",
       "1                 False  \n",
       "2                 False  \n",
       "3                 False  \n",
       "4                 False  \n",
       "\n",
       "[5 rows x 223 columns]"
      ]
     },
     "execution_count": 14,
     "metadata": {},
     "output_type": "execute_result"
    }
   ],
   "source": [
    "X.head()"
   ]
  },
  {
   "cell_type": "code",
   "execution_count": 15,
   "metadata": {},
   "outputs": [
    {
     "data": {
      "text/plain": [
       "223"
      ]
     },
     "execution_count": 15,
     "metadata": {},
     "output_type": "execute_result"
    }
   ],
   "source": [
    "len(X.columns)"
   ]
  },
  {
   "cell_type": "markdown",
   "metadata": {},
   "source": [
    "### Set some fixed set of features"
   ]
  },
  {
   "cell_type": "code",
   "execution_count": 17,
   "metadata": {},
   "outputs": [],
   "source": [
    "feature_name = list(X.columns)\n",
    "# no of maximum features we need to select\n",
    "num_feats=30"
   ]
  },
  {
   "cell_type": "markdown",
   "metadata": {},
   "source": [
    "## Filter Feature Selection - Pearson Correlation"
   ]
  },
  {
   "cell_type": "markdown",
   "metadata": {},
   "source": [
    "### Pearson Correlation function"
   ]
  },
  {
   "cell_type": "code",
   "execution_count": 20,
   "metadata": {},
   "outputs": [
    {
     "name": "stdout",
     "output_type": "stream",
     "text": [
      "30 selected features: ['Nationality_Costa Rica', 'Position_LAM', 'Nationality_Uruguay', 'Acceleration', 'SprintSpeed', 'Strength', 'Nationality_Gabon', 'Nationality_Slovenia', 'Stamina', 'Weak Foot', 'Agility', 'Crossing', 'Nationality_Belgium', 'Dribbling', 'ShotPower', 'LongShots', 'Finishing', 'BallControl', 'FKAccuracy', 'LongPassing', 'Volleys', 'ShortPassing', 'Position_RF', 'Position_LF', 'Body Type_PLAYER_BODY_TYPE_25', 'Body Type_Courtois', 'Body Type_Neymar', 'Body Type_Messi', 'Body Type_C. Ronaldo', 'Reactions']\n"
     ]
    }
   ],
   "source": [
    "# Pearson Correlation\n",
    "\n",
    "def cor_selector(X, y, num_feats):\n",
    "    cor_list = []\n",
    "    for i in X.columns:\n",
    "        cor = np.corrcoef(X[i], y)[0, 1]\n",
    "        cor_list.append(cor)\n",
    "    cor_list = [0 if np.isnan(i) else i for i in cor_list]\n",
    "    cor_abs = np.abs(cor_list)\n",
    "    cor_support = np.argsort(cor_abs)[-num_feats:]\n",
    "    cor_feature = X.columns[cor_support].tolist()\n",
    "    return cor_support, cor_feature\n",
    "\n",
    "cor_support, cor_feature = cor_selector(X, y, num_feats)\n",
    "print(f\"{len(cor_feature)} selected features: {cor_feature}\")"
   ]
  },
  {
   "cell_type": "code",
   "execution_count": 21,
   "metadata": {},
   "outputs": [
    {
     "name": "stdout",
     "output_type": "stream",
     "text": [
      "30 selected features\n"
     ]
    }
   ],
   "source": [
    "cor_support, cor_feature = cor_selector(X, y,num_feats)\n",
    "print(str(len(cor_feature)), 'selected features')"
   ]
  },
  {
   "cell_type": "markdown",
   "metadata": {},
   "source": [
    "### List the selected features from Pearson Correlation"
   ]
  },
  {
   "cell_type": "code",
   "execution_count": 23,
   "metadata": {},
   "outputs": [
    {
     "data": {
      "text/plain": [
       "['Nationality_Costa Rica',\n",
       " 'Position_LAM',\n",
       " 'Nationality_Uruguay',\n",
       " 'Acceleration',\n",
       " 'SprintSpeed',\n",
       " 'Strength',\n",
       " 'Nationality_Gabon',\n",
       " 'Nationality_Slovenia',\n",
       " 'Stamina',\n",
       " 'Weak Foot',\n",
       " 'Agility',\n",
       " 'Crossing',\n",
       " 'Nationality_Belgium',\n",
       " 'Dribbling',\n",
       " 'ShotPower',\n",
       " 'LongShots',\n",
       " 'Finishing',\n",
       " 'BallControl',\n",
       " 'FKAccuracy',\n",
       " 'LongPassing',\n",
       " 'Volleys',\n",
       " 'ShortPassing',\n",
       " 'Position_RF',\n",
       " 'Position_LF',\n",
       " 'Body Type_PLAYER_BODY_TYPE_25',\n",
       " 'Body Type_Courtois',\n",
       " 'Body Type_Neymar',\n",
       " 'Body Type_Messi',\n",
       " 'Body Type_C. Ronaldo',\n",
       " 'Reactions']"
      ]
     },
     "execution_count": 23,
     "metadata": {},
     "output_type": "execute_result"
    }
   ],
   "source": [
    "cor_feature"
   ]
  },
  {
   "cell_type": "markdown",
   "metadata": {},
   "source": [
    "## Filter Feature Selection - Chi-Sqaure"
   ]
  },
  {
   "cell_type": "code",
   "execution_count": 25,
   "metadata": {},
   "outputs": [],
   "source": [
    "from sklearn.feature_selection import SelectKBest\n",
    "from sklearn.feature_selection import chi2\n",
    "from sklearn.preprocessing import MinMaxScaler"
   ]
  },
  {
   "cell_type": "markdown",
   "metadata": {},
   "source": [
    "### Chi-Squared Selector function"
   ]
  },
  {
   "cell_type": "code",
   "execution_count": 27,
   "metadata": {},
   "outputs": [
    {
     "name": "stdout",
     "output_type": "stream",
     "text": [
      "30 selected features: ['Finishing', 'ShortPassing', 'LongPassing', 'BallControl', 'Volleys', 'FKAccuracy', 'Reactions', 'LongShots', 'Position_CM', 'Position_LAM', 'Position_LF', 'Position_LW', 'Position_RB', 'Position_RF', 'Body Type_C. Ronaldo', 'Body Type_Courtois', 'Body Type_Messi', 'Body Type_Neymar', 'Body Type_PLAYER_BODY_TYPE_25', 'Nationality_Belgium', 'Nationality_Costa Rica', 'Nationality_Croatia', 'Nationality_Egypt', 'Nationality_England', 'Nationality_France', 'Nationality_Gabon', 'Nationality_Slovakia', 'Nationality_Slovenia', 'Nationality_Spain', 'Nationality_Uruguay']\n"
     ]
    }
   ],
   "source": [
    "# Chi-Squared Selector\n",
    "\n",
    "def chi_squared_selector(X, y, num_feats):\n",
    "    X_norm = MinMaxScaler().fit_transform(X)\n",
    "    chi_selector = SelectKBest(chi2, k=num_feats)\n",
    "    chi_selector.fit(X_norm, y)\n",
    "    chi_support = chi_selector.get_support()\n",
    "    chi_feature = X.columns[chi_support].tolist()\n",
    "    return chi_support, chi_feature\n",
    "\n",
    "chi_support, chi_feature = chi_squared_selector(X, y, num_feats)\n",
    "print(f\"{len(chi_feature)} selected features: {chi_feature}\")"
   ]
  },
  {
   "cell_type": "code",
   "execution_count": 28,
   "metadata": {},
   "outputs": [
    {
     "name": "stdout",
     "output_type": "stream",
     "text": [
      "30 selected features\n"
     ]
    }
   ],
   "source": [
    "chi_support, chi_feature = chi_squared_selector(X, y,num_feats)\n",
    "print(str(len(chi_feature)), 'selected features')"
   ]
  },
  {
   "cell_type": "markdown",
   "metadata": {},
   "source": [
    "### List the selected features from Chi-Square "
   ]
  },
  {
   "cell_type": "code",
   "execution_count": 30,
   "metadata": {},
   "outputs": [
    {
     "data": {
      "text/plain": [
       "['Finishing',\n",
       " 'ShortPassing',\n",
       " 'LongPassing',\n",
       " 'BallControl',\n",
       " 'Volleys',\n",
       " 'FKAccuracy',\n",
       " 'Reactions',\n",
       " 'LongShots',\n",
       " 'Position_CM',\n",
       " 'Position_LAM',\n",
       " 'Position_LF',\n",
       " 'Position_LW',\n",
       " 'Position_RB',\n",
       " 'Position_RF',\n",
       " 'Body Type_C. Ronaldo',\n",
       " 'Body Type_Courtois',\n",
       " 'Body Type_Messi',\n",
       " 'Body Type_Neymar',\n",
       " 'Body Type_PLAYER_BODY_TYPE_25',\n",
       " 'Nationality_Belgium',\n",
       " 'Nationality_Costa Rica',\n",
       " 'Nationality_Croatia',\n",
       " 'Nationality_Egypt',\n",
       " 'Nationality_England',\n",
       " 'Nationality_France',\n",
       " 'Nationality_Gabon',\n",
       " 'Nationality_Slovakia',\n",
       " 'Nationality_Slovenia',\n",
       " 'Nationality_Spain',\n",
       " 'Nationality_Uruguay']"
      ]
     },
     "execution_count": 30,
     "metadata": {},
     "output_type": "execute_result"
    }
   ],
   "source": [
    "chi_feature"
   ]
  },
  {
   "cell_type": "markdown",
   "metadata": {},
   "source": [
    "## Wrapper Feature Selection - Recursive Feature Elimination"
   ]
  },
  {
   "cell_type": "code",
   "execution_count": 32,
   "metadata": {},
   "outputs": [],
   "source": [
    "from sklearn.feature_selection import RFE\n",
    "from sklearn.linear_model import LogisticRegression\n",
    "from sklearn.preprocessing import MinMaxScaler"
   ]
  },
  {
   "cell_type": "markdown",
   "metadata": {},
   "source": [
    "### RFE Selector function"
   ]
  },
  {
   "cell_type": "code",
   "execution_count": 34,
   "metadata": {},
   "outputs": [
    {
     "name": "stdout",
     "output_type": "stream",
     "text": [
      "30 selected features: ['Finishing', 'ShortPassing', 'LongPassing', 'BallControl', 'Acceleration', 'SprintSpeed', 'Agility', 'Volleys', 'Reactions', 'Strength', 'Position_CM', 'Position_GK', 'Position_LCB', 'Position_LF', 'Position_LM', 'Position_RB', 'Position_RCB', 'Position_RW', 'Body Type_Courtois', 'Body Type_Lean', 'Body Type_Normal', 'Body Type_Stocky', 'Nationality_Belgium', 'Nationality_Costa Rica', 'Nationality_Croatia', 'Nationality_Gabon', 'Nationality_Netherlands', 'Nationality_Slovenia', 'Nationality_Uruguay', 'Nationality_Wales']\n"
     ]
    }
   ],
   "source": [
    "def rfe_selector(X, y, num_feats):\n",
    "    # Scale the features\n",
    "    scaler = MinMaxScaler()\n",
    "    X_scaled = scaler.fit_transform(X)\n",
    "    \n",
    "    # Initialize Logistic Regression with a higher max_iter\n",
    "    model = LogisticRegression(max_iter=5000, solver='lbfgs')\n",
    "    rfe = RFE(estimator=model, n_features_to_select=num_feats)\n",
    "    rfe.fit(X_scaled, y)\n",
    "    \n",
    "    # Get support and selected features\n",
    "    rfe_support = rfe.get_support()\n",
    "    rfe_feature = X.columns[rfe_support].tolist()\n",
    "    return rfe_support, rfe_feature\n",
    "\n",
    "# Call the function\n",
    "rfe_support, rfe_feature = rfe_selector(X, y, num_feats)\n",
    "print(f\"{len(rfe_feature)} selected features: {rfe_feature}\")"
   ]
  },
  {
   "cell_type": "code",
   "execution_count": 35,
   "metadata": {},
   "outputs": [
    {
     "name": "stdout",
     "output_type": "stream",
     "text": [
      "30 selected features\n"
     ]
    }
   ],
   "source": [
    "rfe_support, rfe_feature = rfe_selector(X, y,num_feats)\n",
    "print(str(len(rfe_feature)), 'selected features')"
   ]
  },
  {
   "cell_type": "markdown",
   "metadata": {},
   "source": [
    "### List the selected features from RFE"
   ]
  },
  {
   "cell_type": "code",
   "execution_count": 37,
   "metadata": {},
   "outputs": [
    {
     "data": {
      "text/plain": [
       "['Finishing',\n",
       " 'ShortPassing',\n",
       " 'LongPassing',\n",
       " 'BallControl',\n",
       " 'Acceleration',\n",
       " 'SprintSpeed',\n",
       " 'Agility',\n",
       " 'Volleys',\n",
       " 'Reactions',\n",
       " 'Strength',\n",
       " 'Position_CM',\n",
       " 'Position_GK',\n",
       " 'Position_LCB',\n",
       " 'Position_LF',\n",
       " 'Position_LM',\n",
       " 'Position_RB',\n",
       " 'Position_RCB',\n",
       " 'Position_RW',\n",
       " 'Body Type_Courtois',\n",
       " 'Body Type_Lean',\n",
       " 'Body Type_Normal',\n",
       " 'Body Type_Stocky',\n",
       " 'Nationality_Belgium',\n",
       " 'Nationality_Costa Rica',\n",
       " 'Nationality_Croatia',\n",
       " 'Nationality_Gabon',\n",
       " 'Nationality_Netherlands',\n",
       " 'Nationality_Slovenia',\n",
       " 'Nationality_Uruguay',\n",
       " 'Nationality_Wales']"
      ]
     },
     "execution_count": 37,
     "metadata": {},
     "output_type": "execute_result"
    }
   ],
   "source": [
    "rfe_feature"
   ]
  },
  {
   "cell_type": "markdown",
   "metadata": {},
   "source": [
    "## Embedded Selection - Lasso: SelectFromModel"
   ]
  },
  {
   "cell_type": "code",
   "execution_count": 39,
   "metadata": {},
   "outputs": [],
   "source": [
    "from sklearn.feature_selection import SelectFromModel\n",
    "from sklearn.linear_model import LogisticRegression\n",
    "from sklearn.preprocessing import MinMaxScaler"
   ]
  },
  {
   "cell_type": "code",
   "execution_count": 40,
   "metadata": {},
   "outputs": [
    {
     "name": "stdout",
     "output_type": "stream",
     "text": [
      "19 selected features: ['Crossing', 'Finishing', 'Dribbling', 'LongPassing', 'BallControl', 'Acceleration', 'SprintSpeed', 'Agility', 'Stamina', 'Volleys', 'FKAccuracy', 'Reactions', 'Balance', 'ShotPower', 'Strength', 'Aggression', 'Interceptions', 'Weak Foot', 'Body Type_Lean']\n"
     ]
    }
   ],
   "source": [
    "# Embedded Method - Logistic Regression (Lasso)\n",
    "\n",
    "def embedded_log_reg_selector(X, y, num_feats):\n",
    "    model = SelectFromModel(LogisticRegression(C=0.1, penalty='l1', solver='liblinear', max_iter=1000), max_features=num_feats)\n",
    "    model.fit(X, y)\n",
    "    embedded_lr_support = model.get_support()\n",
    "    embedded_lr_feature = X.columns[embedded_lr_support].tolist()\n",
    "    return embedded_lr_support, embedded_lr_feature\n",
    "\n",
    "embedded_lr_support, embedded_lr_feature = embedded_log_reg_selector(X, y, num_feats)\n",
    "print(f\"{len(embedded_lr_feature)} selected features: {embedded_lr_feature}\")"
   ]
  },
  {
   "cell_type": "code",
   "execution_count": 41,
   "metadata": {},
   "outputs": [
    {
     "name": "stdout",
     "output_type": "stream",
     "text": [
      "19 selected features\n"
     ]
    }
   ],
   "source": [
    "embedded_lr_support, embedded_lr_feature = embedded_log_reg_selector(X, y, num_feats)\n",
    "print(str(len(embedded_lr_feature)), 'selected features')"
   ]
  },
  {
   "cell_type": "code",
   "execution_count": 42,
   "metadata": {},
   "outputs": [
    {
     "data": {
      "text/plain": [
       "['Crossing',\n",
       " 'Finishing',\n",
       " 'Dribbling',\n",
       " 'LongPassing',\n",
       " 'BallControl',\n",
       " 'Acceleration',\n",
       " 'SprintSpeed',\n",
       " 'Agility',\n",
       " 'Stamina',\n",
       " 'Volleys',\n",
       " 'FKAccuracy',\n",
       " 'Reactions',\n",
       " 'Balance',\n",
       " 'ShotPower',\n",
       " 'Strength',\n",
       " 'Aggression',\n",
       " 'Interceptions',\n",
       " 'Weak Foot',\n",
       " 'Body Type_Lean']"
      ]
     },
     "execution_count": 42,
     "metadata": {},
     "output_type": "execute_result"
    }
   ],
   "source": [
    "embedded_lr_feature"
   ]
  },
  {
   "cell_type": "markdown",
   "metadata": {},
   "source": [
    "## Tree based(Random Forest): SelectFromModel"
   ]
  },
  {
   "cell_type": "code",
   "execution_count": 44,
   "metadata": {},
   "outputs": [],
   "source": [
    "from sklearn.feature_selection import SelectFromModel\n",
    "from sklearn.ensemble import RandomForestClassifier"
   ]
  },
  {
   "cell_type": "code",
   "execution_count": 45,
   "metadata": {},
   "outputs": [
    {
     "name": "stdout",
     "output_type": "stream",
     "text": [
      "24 selected features: ['Crossing', 'Finishing', 'ShortPassing', 'Dribbling', 'LongPassing', 'BallControl', 'Acceleration', 'SprintSpeed', 'Agility', 'Stamina', 'Volleys', 'FKAccuracy', 'Reactions', 'Balance', 'ShotPower', 'Strength', 'LongShots', 'Aggression', 'Interceptions', 'Weak Foot', 'Preferred Foot_Right', 'Body Type_Courtois', 'Body Type_Lean', 'Nationality_Slovenia']\n"
     ]
    }
   ],
   "source": [
    "# Embedded Method - Random Forest\n",
    "\n",
    "def embedded_rf_selector(X, y, num_feats):\n",
    "    model = SelectFromModel(RandomForestClassifier(n_estimators=100), max_features=num_feats)\n",
    "    model.fit(X, y)\n",
    "    embedded_rf_support = model.get_support()\n",
    "    embedded_rf_feature = X.columns[embedded_rf_support].tolist()\n",
    "    return embedded_rf_support, embedded_rf_feature\n",
    "\n",
    "embedded_rf_support, embedded_rf_feature = embedded_rf_selector(X, y, num_feats)\n",
    "print(f\"{len(embedded_rf_feature)} selected features: {embedded_rf_feature}\")\n"
   ]
  },
  {
   "cell_type": "code",
   "execution_count": 46,
   "metadata": {},
   "outputs": [
    {
     "name": "stdout",
     "output_type": "stream",
     "text": [
      "24 selected features\n"
     ]
    }
   ],
   "source": [
    "embedder_rf_support, embedder_rf_feature = embedded_rf_selector(X, y, num_feats)\n",
    "print(str(len(embedded_rf_feature)), 'selected features')"
   ]
  },
  {
   "cell_type": "code",
   "execution_count": 47,
   "metadata": {},
   "outputs": [
    {
     "data": {
      "text/plain": [
       "['Crossing',\n",
       " 'Finishing',\n",
       " 'ShortPassing',\n",
       " 'Dribbling',\n",
       " 'LongPassing',\n",
       " 'BallControl',\n",
       " 'Acceleration',\n",
       " 'SprintSpeed',\n",
       " 'Agility',\n",
       " 'Stamina',\n",
       " 'Volleys',\n",
       " 'FKAccuracy',\n",
       " 'Reactions',\n",
       " 'Balance',\n",
       " 'ShotPower',\n",
       " 'Strength',\n",
       " 'LongShots',\n",
       " 'Aggression',\n",
       " 'Interceptions',\n",
       " 'Weak Foot',\n",
       " 'Preferred Foot_Right',\n",
       " 'Body Type_Courtois',\n",
       " 'Body Type_Lean',\n",
       " 'Nationality_Slovenia']"
      ]
     },
     "execution_count": 47,
     "metadata": {},
     "output_type": "execute_result"
    }
   ],
   "source": [
    "embedded_rf_feature"
   ]
  },
  {
   "cell_type": "markdown",
   "metadata": {},
   "source": [
    "## Tree based(Light GBM): SelectFromModel"
   ]
  },
  {
   "cell_type": "code",
   "execution_count": 70,
   "metadata": {},
   "outputs": [],
   "source": [
    "from sklearn.feature_selection import SelectFromModel\n",
    "from lightgbm import LGBMClassifier"
   ]
  },
  {
   "cell_type": "code",
   "execution_count": 72,
   "metadata": {},
   "outputs": [
    {
     "name": "stdout",
     "output_type": "stream",
     "text": [
      "[LightGBM] [Warning] Found whitespace in feature_names, replace with underlines\n",
      "[LightGBM] [Info] Number of positive: 55, number of negative: 18104\n",
      "[LightGBM] [Info] Auto-choosing col-wise multi-threading, the overhead of testing was 0.000796 seconds.\n",
      "You can set `force_col_wise=true` to remove the overhead.\n",
      "[LightGBM] [Info] Total Bins 1812\n",
      "[LightGBM] [Info] Number of data points in the train set: 18159, number of used features: 124\n",
      "[LightGBM] [Info] [binary:BoostFromScore]: pavg=0.003029 -> initscore=-5.796555\n",
      "[LightGBM] [Info] Start training from score -5.796555\n",
      "[LightGBM] [Warning] No further splits with positive gain, best gain: -inf\n",
      "[LightGBM] [Warning] No further splits with positive gain, best gain: -inf\n",
      "[LightGBM] [Warning] No further splits with positive gain, best gain: -inf\n",
      "[LightGBM] [Warning] No further splits with positive gain, best gain: -inf\n",
      "[LightGBM] [Warning] No further splits with positive gain, best gain: -inf\n",
      "[LightGBM] [Warning] No further splits with positive gain, best gain: -inf\n",
      "[LightGBM] [Warning] No further splits with positive gain, best gain: -inf\n",
      "[LightGBM] [Warning] No further splits with positive gain, best gain: -inf\n",
      "[LightGBM] [Warning] No further splits with positive gain, best gain: -inf\n",
      "22 selected features: ['Crossing', 'Finishing', 'ShortPassing', 'Dribbling', 'LongPassing', 'BallControl', 'Acceleration', 'SprintSpeed', 'Agility', 'Stamina', 'Volleys', 'FKAccuracy', 'Reactions', 'Balance', 'ShotPower', 'Strength', 'LongShots', 'Aggression', 'Interceptions', 'Position_LCB', 'Body Type_Lean', 'Nationality_Italy']\n"
     ]
    }
   ],
   "source": [
    "# Embedded Method - LightGBM\n",
    "def embedded_lgbm_selector(X, y, num_feats):\n",
    "    model = SelectFromModel(LGBMClassifier(n_estimators=100), max_features=num_feats)\n",
    "    model.fit(X, y)\n",
    "    embedded_lgbm_support = model.get_support()\n",
    "    embedded_lgbm_feature = X.columns[embedded_lgbm_support].tolist()\n",
    "    return embedded_lgbm_support, embedded_lgbm_feature\n",
    "\n",
    "# Call the function\n",
    "embedded_lgbm_support, embedded_lgbm_feature = embedded_lgbm_selector(X, y, num_feats)\n",
    "print(f\"{len(embedded_lgbm_feature)} selected features: {embedded_lgbm_feature}\")"
   ]
  },
  {
   "cell_type": "code",
   "execution_count": 74,
   "metadata": {},
   "outputs": [
    {
     "data": {
      "text/plain": [
       "['Crossing',\n",
       " 'Finishing',\n",
       " 'ShortPassing',\n",
       " 'Dribbling',\n",
       " 'LongPassing',\n",
       " 'BallControl',\n",
       " 'Acceleration',\n",
       " 'SprintSpeed',\n",
       " 'Agility',\n",
       " 'Stamina',\n",
       " 'Volleys',\n",
       " 'FKAccuracy',\n",
       " 'Reactions',\n",
       " 'Balance',\n",
       " 'ShotPower',\n",
       " 'Strength',\n",
       " 'LongShots',\n",
       " 'Aggression',\n",
       " 'Interceptions',\n",
       " 'Position_LCB',\n",
       " 'Body Type_Lean',\n",
       " 'Nationality_Italy']"
      ]
     },
     "execution_count": 74,
     "metadata": {},
     "output_type": "execute_result"
    }
   ],
   "source": [
    "embedded_lgbm_feature"
   ]
  },
  {
   "cell_type": "markdown",
   "metadata": {},
   "source": [
    "## Putting all of it together: AutoFeatureSelector Tool"
   ]
  },
  {
   "cell_type": "code",
   "execution_count": null,
   "metadata": {},
   "outputs": [],
   "source": [
    "pip install lightgbm\n"
   ]
  },
  {
   "cell_type": "code",
   "execution_count": null,
   "metadata": {},
   "outputs": [],
   "source": [
    "pip show lightgbm"
   ]
  },
  {
   "cell_type": "code",
   "execution_count": 81,
   "metadata": {},
   "outputs": [
    {
     "data": {
      "text/html": [
       "<div>\n",
       "<style scoped>\n",
       "    .dataframe tbody tr th:only-of-type {\n",
       "        vertical-align: middle;\n",
       "    }\n",
       "\n",
       "    .dataframe tbody tr th {\n",
       "        vertical-align: top;\n",
       "    }\n",
       "\n",
       "    .dataframe thead th {\n",
       "        text-align: right;\n",
       "    }\n",
       "</style>\n",
       "<table border=\"1\" class=\"dataframe\">\n",
       "  <thead>\n",
       "    <tr style=\"text-align: right;\">\n",
       "      <th></th>\n",
       "      <th>Feature</th>\n",
       "      <th>Pearson</th>\n",
       "      <th>Chi-2</th>\n",
       "      <th>RFE</th>\n",
       "      <th>Logistics</th>\n",
       "      <th>Random Forest</th>\n",
       "      <th>LightGBM</th>\n",
       "      <th>Total</th>\n",
       "    </tr>\n",
       "  </thead>\n",
       "  <tbody>\n",
       "    <tr>\n",
       "      <th>1</th>\n",
       "      <td>ShortPassing</td>\n",
       "      <td>217</td>\n",
       "      <td>True</td>\n",
       "      <td>True</td>\n",
       "      <td>False</td>\n",
       "      <td>True</td>\n",
       "      <td>True</td>\n",
       "      <td>221</td>\n",
       "    </tr>\n",
       "    <tr>\n",
       "      <th>2</th>\n",
       "      <td>SprintSpeed</td>\n",
       "      <td>195</td>\n",
       "      <td>False</td>\n",
       "      <td>True</td>\n",
       "      <td>True</td>\n",
       "      <td>True</td>\n",
       "      <td>True</td>\n",
       "      <td>199</td>\n",
       "    </tr>\n",
       "    <tr>\n",
       "      <th>3</th>\n",
       "      <td>Acceleration</td>\n",
       "      <td>115</td>\n",
       "      <td>False</td>\n",
       "      <td>True</td>\n",
       "      <td>True</td>\n",
       "      <td>True</td>\n",
       "      <td>True</td>\n",
       "      <td>119</td>\n",
       "    </tr>\n",
       "    <tr>\n",
       "      <th>4</th>\n",
       "      <td>Crossing</td>\n",
       "      <td>93</td>\n",
       "      <td>False</td>\n",
       "      <td>False</td>\n",
       "      <td>True</td>\n",
       "      <td>True</td>\n",
       "      <td>True</td>\n",
       "      <td>96</td>\n",
       "    </tr>\n",
       "    <tr>\n",
       "      <th>5</th>\n",
       "      <td>Reactions</td>\n",
       "      <td>72</td>\n",
       "      <td>True</td>\n",
       "      <td>True</td>\n",
       "      <td>True</td>\n",
       "      <td>True</td>\n",
       "      <td>True</td>\n",
       "      <td>77</td>\n",
       "    </tr>\n",
       "    <tr>\n",
       "      <th>6</th>\n",
       "      <td>Position_CM</td>\n",
       "      <td>54</td>\n",
       "      <td>True</td>\n",
       "      <td>True</td>\n",
       "      <td>False</td>\n",
       "      <td>False</td>\n",
       "      <td>False</td>\n",
       "      <td>56</td>\n",
       "    </tr>\n",
       "    <tr>\n",
       "      <th>7</th>\n",
       "      <td>Position_CDM</td>\n",
       "      <td>56</td>\n",
       "      <td>False</td>\n",
       "      <td>False</td>\n",
       "      <td>False</td>\n",
       "      <td>False</td>\n",
       "      <td>False</td>\n",
       "      <td>56</td>\n",
       "    </tr>\n",
       "    <tr>\n",
       "      <th>8</th>\n",
       "      <td>Position_GK</td>\n",
       "      <td>53</td>\n",
       "      <td>False</td>\n",
       "      <td>True</td>\n",
       "      <td>False</td>\n",
       "      <td>False</td>\n",
       "      <td>False</td>\n",
       "      <td>54</td>\n",
       "    </tr>\n",
       "    <tr>\n",
       "      <th>9</th>\n",
       "      <td>Position_LAM</td>\n",
       "      <td>50</td>\n",
       "      <td>True</td>\n",
       "      <td>False</td>\n",
       "      <td>False</td>\n",
       "      <td>False</td>\n",
       "      <td>False</td>\n",
       "      <td>51</td>\n",
       "    </tr>\n",
       "    <tr>\n",
       "      <th>10</th>\n",
       "      <td>Position_CF</td>\n",
       "      <td>51</td>\n",
       "      <td>False</td>\n",
       "      <td>False</td>\n",
       "      <td>False</td>\n",
       "      <td>False</td>\n",
       "      <td>False</td>\n",
       "      <td>51</td>\n",
       "    </tr>\n",
       "    <tr>\n",
       "      <th>11</th>\n",
       "      <td>Position_CAM</td>\n",
       "      <td>43</td>\n",
       "      <td>False</td>\n",
       "      <td>False</td>\n",
       "      <td>False</td>\n",
       "      <td>False</td>\n",
       "      <td>False</td>\n",
       "      <td>43</td>\n",
       "    </tr>\n",
       "    <tr>\n",
       "      <th>12</th>\n",
       "      <td>Position_CB</td>\n",
       "      <td>33</td>\n",
       "      <td>False</td>\n",
       "      <td>False</td>\n",
       "      <td>False</td>\n",
       "      <td>False</td>\n",
       "      <td>False</td>\n",
       "      <td>33</td>\n",
       "    </tr>\n",
       "    <tr>\n",
       "      <th>13</th>\n",
       "      <td>Finishing</td>\n",
       "      <td>28</td>\n",
       "      <td>True</td>\n",
       "      <td>True</td>\n",
       "      <td>True</td>\n",
       "      <td>True</td>\n",
       "      <td>True</td>\n",
       "      <td>33</td>\n",
       "    </tr>\n",
       "    <tr>\n",
       "      <th>14</th>\n",
       "      <td>Stamina</td>\n",
       "      <td>19</td>\n",
       "      <td>False</td>\n",
       "      <td>False</td>\n",
       "      <td>True</td>\n",
       "      <td>True</td>\n",
       "      <td>True</td>\n",
       "      <td>22</td>\n",
       "    </tr>\n",
       "    <tr>\n",
       "      <th>15</th>\n",
       "      <td>Strength</td>\n",
       "      <td>16</td>\n",
       "      <td>False</td>\n",
       "      <td>True</td>\n",
       "      <td>True</td>\n",
       "      <td>True</td>\n",
       "      <td>True</td>\n",
       "      <td>20</td>\n",
       "    </tr>\n",
       "    <tr>\n",
       "      <th>16</th>\n",
       "      <td>BallControl</td>\n",
       "      <td>15</td>\n",
       "      <td>True</td>\n",
       "      <td>True</td>\n",
       "      <td>True</td>\n",
       "      <td>True</td>\n",
       "      <td>True</td>\n",
       "      <td>20</td>\n",
       "    </tr>\n",
       "    <tr>\n",
       "      <th>17</th>\n",
       "      <td>ShotPower</td>\n",
       "      <td>14</td>\n",
       "      <td>False</td>\n",
       "      <td>False</td>\n",
       "      <td>True</td>\n",
       "      <td>True</td>\n",
       "      <td>True</td>\n",
       "      <td>17</td>\n",
       "    </tr>\n",
       "    <tr>\n",
       "      <th>18</th>\n",
       "      <td>Interceptions</td>\n",
       "      <td>11</td>\n",
       "      <td>False</td>\n",
       "      <td>False</td>\n",
       "      <td>True</td>\n",
       "      <td>True</td>\n",
       "      <td>True</td>\n",
       "      <td>14</td>\n",
       "    </tr>\n",
       "    <tr>\n",
       "      <th>19</th>\n",
       "      <td>Volleys</td>\n",
       "      <td>8</td>\n",
       "      <td>True</td>\n",
       "      <td>True</td>\n",
       "      <td>True</td>\n",
       "      <td>True</td>\n",
       "      <td>True</td>\n",
       "      <td>13</td>\n",
       "    </tr>\n",
       "    <tr>\n",
       "      <th>20</th>\n",
       "      <td>Agility</td>\n",
       "      <td>9</td>\n",
       "      <td>False</td>\n",
       "      <td>True</td>\n",
       "      <td>True</td>\n",
       "      <td>True</td>\n",
       "      <td>True</td>\n",
       "      <td>13</td>\n",
       "    </tr>\n",
       "    <tr>\n",
       "      <th>21</th>\n",
       "      <td>Position_LB</td>\n",
       "      <td>12</td>\n",
       "      <td>False</td>\n",
       "      <td>False</td>\n",
       "      <td>False</td>\n",
       "      <td>False</td>\n",
       "      <td>False</td>\n",
       "      <td>12</td>\n",
       "    </tr>\n",
       "    <tr>\n",
       "      <th>22</th>\n",
       "      <td>LongPassing</td>\n",
       "      <td>7</td>\n",
       "      <td>True</td>\n",
       "      <td>True</td>\n",
       "      <td>True</td>\n",
       "      <td>True</td>\n",
       "      <td>True</td>\n",
       "      <td>12</td>\n",
       "    </tr>\n",
       "    <tr>\n",
       "      <th>23</th>\n",
       "      <td>Preferred Foot_Left</td>\n",
       "      <td>10</td>\n",
       "      <td>False</td>\n",
       "      <td>False</td>\n",
       "      <td>False</td>\n",
       "      <td>False</td>\n",
       "      <td>False</td>\n",
       "      <td>10</td>\n",
       "    </tr>\n",
       "    <tr>\n",
       "      <th>24</th>\n",
       "      <td>Dribbling</td>\n",
       "      <td>6</td>\n",
       "      <td>False</td>\n",
       "      <td>False</td>\n",
       "      <td>True</td>\n",
       "      <td>True</td>\n",
       "      <td>True</td>\n",
       "      <td>9</td>\n",
       "    </tr>\n",
       "    <tr>\n",
       "      <th>25</th>\n",
       "      <td>Aggression</td>\n",
       "      <td>5</td>\n",
       "      <td>False</td>\n",
       "      <td>False</td>\n",
       "      <td>True</td>\n",
       "      <td>True</td>\n",
       "      <td>True</td>\n",
       "      <td>8</td>\n",
       "    </tr>\n",
       "    <tr>\n",
       "      <th>26</th>\n",
       "      <td>Weak Foot</td>\n",
       "      <td>4</td>\n",
       "      <td>False</td>\n",
       "      <td>False</td>\n",
       "      <td>True</td>\n",
       "      <td>True</td>\n",
       "      <td>False</td>\n",
       "      <td>6</td>\n",
       "    </tr>\n",
       "    <tr>\n",
       "      <th>27</th>\n",
       "      <td>Balance</td>\n",
       "      <td>3</td>\n",
       "      <td>False</td>\n",
       "      <td>False</td>\n",
       "      <td>True</td>\n",
       "      <td>True</td>\n",
       "      <td>True</td>\n",
       "      <td>6</td>\n",
       "    </tr>\n",
       "    <tr>\n",
       "      <th>28</th>\n",
       "      <td>LongShots</td>\n",
       "      <td>1</td>\n",
       "      <td>True</td>\n",
       "      <td>False</td>\n",
       "      <td>False</td>\n",
       "      <td>True</td>\n",
       "      <td>True</td>\n",
       "      <td>4</td>\n",
       "    </tr>\n",
       "    <tr>\n",
       "      <th>29</th>\n",
       "      <td>FKAccuracy</td>\n",
       "      <td>0</td>\n",
       "      <td>True</td>\n",
       "      <td>False</td>\n",
       "      <td>True</td>\n",
       "      <td>True</td>\n",
       "      <td>True</td>\n",
       "      <td>4</td>\n",
       "    </tr>\n",
       "    <tr>\n",
       "      <th>30</th>\n",
       "      <td>Preferred Foot_Right</td>\n",
       "      <td>2</td>\n",
       "      <td>False</td>\n",
       "      <td>False</td>\n",
       "      <td>False</td>\n",
       "      <td>True</td>\n",
       "      <td>False</td>\n",
       "      <td>3</td>\n",
       "    </tr>\n",
       "  </tbody>\n",
       "</table>\n",
       "</div>"
      ],
      "text/plain": [
       "                 Feature  Pearson  Chi-2    RFE  Logistics  Random Forest  \\\n",
       "1           ShortPassing      217   True   True      False           True   \n",
       "2            SprintSpeed      195  False   True       True           True   \n",
       "3           Acceleration      115  False   True       True           True   \n",
       "4               Crossing       93  False  False       True           True   \n",
       "5              Reactions       72   True   True       True           True   \n",
       "6            Position_CM       54   True   True      False          False   \n",
       "7           Position_CDM       56  False  False      False          False   \n",
       "8            Position_GK       53  False   True      False          False   \n",
       "9           Position_LAM       50   True  False      False          False   \n",
       "10           Position_CF       51  False  False      False          False   \n",
       "11          Position_CAM       43  False  False      False          False   \n",
       "12           Position_CB       33  False  False      False          False   \n",
       "13             Finishing       28   True   True       True           True   \n",
       "14               Stamina       19  False  False       True           True   \n",
       "15              Strength       16  False   True       True           True   \n",
       "16           BallControl       15   True   True       True           True   \n",
       "17             ShotPower       14  False  False       True           True   \n",
       "18         Interceptions       11  False  False       True           True   \n",
       "19               Volleys        8   True   True       True           True   \n",
       "20               Agility        9  False   True       True           True   \n",
       "21           Position_LB       12  False  False      False          False   \n",
       "22           LongPassing        7   True   True       True           True   \n",
       "23   Preferred Foot_Left       10  False  False      False          False   \n",
       "24             Dribbling        6  False  False       True           True   \n",
       "25            Aggression        5  False  False       True           True   \n",
       "26             Weak Foot        4  False  False       True           True   \n",
       "27               Balance        3  False  False       True           True   \n",
       "28             LongShots        1   True  False      False           True   \n",
       "29            FKAccuracy        0   True  False       True           True   \n",
       "30  Preferred Foot_Right        2  False  False      False           True   \n",
       "\n",
       "    LightGBM Total  \n",
       "1       True   221  \n",
       "2       True   199  \n",
       "3       True   119  \n",
       "4       True    96  \n",
       "5       True    77  \n",
       "6      False    56  \n",
       "7      False    56  \n",
       "8      False    54  \n",
       "9      False    51  \n",
       "10     False    51  \n",
       "11     False    43  \n",
       "12     False    33  \n",
       "13      True    33  \n",
       "14      True    22  \n",
       "15      True    20  \n",
       "16      True    20  \n",
       "17      True    17  \n",
       "18      True    14  \n",
       "19      True    13  \n",
       "20      True    13  \n",
       "21     False    12  \n",
       "22      True    12  \n",
       "23     False    10  \n",
       "24      True     9  \n",
       "25      True     8  \n",
       "26     False     6  \n",
       "27      True     6  \n",
       "28      True     4  \n",
       "29      True     4  \n",
       "30     False     3  "
      ]
     },
     "execution_count": 81,
     "metadata": {},
     "output_type": "execute_result"
    }
   ],
   "source": [
    "# Ensure all feature selection lists have the same length\n",
    "min_length = min(len(feature_name), len(cor_support), len(chi_support), len(rfe_support), \n",
    "                 len(embedded_lr_support), len(embedded_rf_support), len(embedded_lgbm_support))\n",
    "\n",
    "# Truncate arrays to the minimum length (if necessary)\n",
    "feature_name = feature_name[:min_length]\n",
    "cor_support = cor_support[:min_length]\n",
    "chi_support = chi_support[:min_length]\n",
    "rfe_support = rfe_support[:min_length]\n",
    "embedded_lr_support = embedded_lr_support[:min_length]\n",
    "embedded_rf_support = embedded_rf_support[:min_length]\n",
    "embedded_lgbm_support = embedded_lgbm_support[:min_length]\n",
    "\n",
    "# Create the DataFrame\n",
    "feature_selection_df = pd.DataFrame({\n",
    "    'Feature': feature_name,\n",
    "    'Pearson': cor_support,\n",
    "    'Chi-2': chi_support,\n",
    "    'RFE': rfe_support,\n",
    "    'Logistics': embedded_lr_support,\n",
    "    'Random Forest': embedded_rf_support,\n",
    "    'LightGBM': embedded_lgbm_support\n",
    "})\n",
    "\n",
    "# Count the selected times for each feature\n",
    "feature_selection_df['Total'] = feature_selection_df.iloc[:, 1:].sum(axis=1)\n",
    "\n",
    "# Sort and reset index\n",
    "feature_selection_df = feature_selection_df.sort_values(['Total', 'Feature'], ascending=False)\n",
    "feature_selection_df.index = range(1, len(feature_selection_df) + 1)\n",
    "\n",
    "# Display the top 100 features\n",
    "feature_selection_df.head(100)\n"
   ]
  },
  {
   "cell_type": "markdown",
   "metadata": {},
   "source": [
    "## Can you build a Python script that takes dataset and a list of different feature selection methods that you want to try and output the best (maximum votes) features from all methods?"
   ]
  },
  {
   "cell_type": "code",
   "execution_count": null,
   "metadata": {},
   "outputs": [],
   "source": [
    "import pandas as pd\n",
    "import numpy as np\n",
    "from sklearn.model_selection import train_test_split\n",
    "from sklearn.preprocessing import StandardScaler\n",
    "from sklearn.feature_selection import SelectKBest, f_classif, chi2\n",
    "from sklearn.ensemble import RandomForestClassifier\n",
    "from sklearn.linear_model import LogisticRegression\n",
    "from sklearn.feature_selection import RFE\n",
    "import lightgbm as lgb"
   ]
  },
  {
   "cell_type": "code",
   "execution_count": 92,
   "metadata": {},
   "outputs": [],
   "source": [
    "# Define feature selection methods\n",
    "def cor_selector(X, y, num_feats):\n",
    "    cor_list = []\n",
    "    for col in X.columns:\n",
    "        cor = np.corrcoef(X[col], y)[0, 1]\n",
    "        cor_list.append(abs(cor))\n",
    "    cor_feature = X.columns[np.argsort(cor_list)[-num_feats:]]\n",
    "    cor_support = [True if i in cor_feature else False for i in X.columns]\n",
    "    return cor_support, cor_feature\n",
    "\n",
    "def chi_squared_selector(X, y, num_feats):\n",
    "    chi_selector = SelectKBest(chi2, k=num_feats)\n",
    "    chi_selector.fit(X, y)\n",
    "    chi_support = chi_selector.get_support()\n",
    "    chi_feature = X.loc[:, chi_support].columns.tolist()\n",
    "    return chi_support, chi_feature\n",
    "\n",
    "def rfe_selector(X, y, num_feats):\n",
    "    model = LogisticRegression()\n",
    "    rfe = RFE(estimator=model, n_features_to_select=num_feats, step=1)\n",
    "    rfe.fit(X, y)\n",
    "    rfe_support = rfe.get_support()\n",
    "    rfe_feature = X.loc[:, rfe_support].columns.tolist()\n",
    "    return rfe_support, rfe_feature\n",
    "\n",
    "def embedded_log_reg_selector(X, y, num_feats):\n",
    "    model = LogisticRegression()\n",
    "    model.fit(X, y)\n",
    "    importance = np.abs(model.coef_).flatten()\n",
    "    idxs = np.argsort(importance)[-num_feats:]\n",
    "    embedded_lr_feature = X.columns[idxs]\n",
    "    embedded_lr_support = [True if i in embedded_lr_feature else False for i in X.columns]\n",
    "    return embedded_lr_support, embedded_lr_feature\n",
    "\n",
    "def embedded_rf_selector(X, y, num_feats):\n",
    "    model = RandomForestClassifier()\n",
    "    model.fit(X, y)\n",
    "    importances = model.feature_importances_\n",
    "    idxs = np.argsort(importances)[-num_feats:]\n",
    "    embedded_rf_feature = X.columns[idxs]\n",
    "    embedded_rf_support = [True if i in embedded_rf_feature else False for i in X.columns]\n",
    "    return embedded_rf_support, embedded_rf_feature\n",
    "\n",
    "def embedded_lgbm_selector(X, y, num_feats):\n",
    "    model = lgb.LGBMClassifier()\n",
    "    model.fit(X, y)\n",
    "    importances = model.feature_importances_\n",
    "    idxs = np.argsort(importances)[-num_feats:]\n",
    "    embedded_lgbm_feature = X.columns[idxs]\n",
    "    embedded_lgbm_support = [True if i in embedded_lgbm_feature else False for i in X.columns]\n",
    "    return embedded_lgbm_support, embedded_lgbm_feature\n",
    "\n",
    "# Preprocessing function\n",
    "def preprocess_dataset(dataset_path, target_column):\n",
    "    dataset = pd.read_csv(dataset_path)\n",
    "    # Handle non-numeric features\n",
    "    dataset = pd.get_dummies(dataset, drop_first=True)\n",
    "    X = dataset.drop(columns=[target_column])\n",
    "    y = dataset[target_column]\n",
    "    # Standardize features\n",
    "    scaler = StandardScaler()\n",
    "    X = pd.DataFrame(scaler.fit_transform(X), columns=X.columns)\n",
    "    num_feats = 30\n",
    "    return X, y, num_feats\n"
   ]
  },
  {
   "cell_type": "code",
   "execution_count": 94,
   "metadata": {},
   "outputs": [],
   "source": [
    "# Main function\n",
    "def autoFeatureSelector(dataset_path, target_column, methods=[]):\n",
    "    X, y, num_feats = preprocess_dataset(dataset_path, target_column)\n",
    "    selected_features = {}\n",
    "    \n",
    "    if 'pearson' in methods:\n",
    "        cor_support, cor_feature = cor_selector(X, y, num_feats)\n",
    "        selected_features['pearson'] = cor_support\n",
    "    if 'chi-square' in methods:\n",
    "        chi_support, chi_feature = chi_squared_selector(X, y, num_feats)\n",
    "        selected_features['chi-square'] = chi_support\n",
    "    if 'rfe' in methods:\n",
    "        rfe_support, rfe_feature = rfe_selector(X, y, num_feats)\n",
    "        selected_features['rfe'] = rfe_support\n",
    "    if 'log-reg' in methods:\n",
    "        embedded_lr_support, embedded_lr_feature = embedded_log_reg_selector(X, y, num_feats)\n",
    "        selected_features['log-reg'] = embedded_lr_support\n",
    "    if 'rf' in methods:\n",
    "        embedded_rf_support, embedded_rf_feature = embedded_rf_selector(X, y, num_feats)\n",
    "        selected_features['rf'] = embedded_rf_support\n",
    "    if 'lgbm' in methods:\n",
    "        embedded_lgbm_support, embedded_lgbm_feature = embedded_lgbm_selector(X, y, num_feats)\n",
    "        selected_features['lgbm'] = embedded_lgbm_support\n",
    "    \n",
    "    # Combine results\n",
    "    feature_votes = pd.DataFrame(selected_features)\n",
    "    feature_votes['Total'] = feature_votes.sum(axis=1)\n",
    "    best_features = feature_votes.sort_values('Total', ascending=False).head(num_feats).index.tolist()\n",
    "    return best_features\n"
   ]
  },
  {
   "cell_type": "code",
   "execution_count": 96,
   "metadata": {},
   "outputs": [
    {
     "ename": "ValueError",
     "evalue": "Input X contains NaN.\nSelectKBest does not accept missing values encoded as NaN natively. For supervised learning, you might want to consider sklearn.ensemble.HistGradientBoostingClassifier and Regressor which accept missing values encoded as NaNs natively. Alternatively, it is possible to preprocess the data, for instance by using an imputer transformer in a pipeline or drop samples with missing values. See https://scikit-learn.org/stable/modules/impute.html You can find a list of all estimators that handle NaN values at the following page: https://scikit-learn.org/stable/modules/impute.html#estimators-that-handle-nan-values",
     "output_type": "error",
     "traceback": [
      "\u001b[1;31m---------------------------------------------------------------------------\u001b[0m",
      "\u001b[1;31mValueError\u001b[0m                                Traceback (most recent call last)",
      "Cell \u001b[1;32mIn[96], line 2\u001b[0m\n\u001b[0;32m      1\u001b[0m \u001b[38;5;66;03m# Run the function\u001b[39;00m\n\u001b[1;32m----> 2\u001b[0m best_features \u001b[38;5;241m=\u001b[39m autoFeatureSelector(\n\u001b[0;32m      3\u001b[0m     dataset_path\u001b[38;5;241m=\u001b[39m\u001b[38;5;124m\"\u001b[39m\u001b[38;5;124mfifa19.csv\u001b[39m\u001b[38;5;124m\"\u001b[39m, \n\u001b[0;32m      4\u001b[0m     target_column\u001b[38;5;241m=\u001b[39m\u001b[38;5;124m'\u001b[39m\u001b[38;5;124mOverall\u001b[39m\u001b[38;5;124m'\u001b[39m, \n\u001b[0;32m      5\u001b[0m     methods\u001b[38;5;241m=\u001b[39m[\u001b[38;5;124m'\u001b[39m\u001b[38;5;124mpearson\u001b[39m\u001b[38;5;124m'\u001b[39m, \u001b[38;5;124m'\u001b[39m\u001b[38;5;124mchi-square\u001b[39m\u001b[38;5;124m'\u001b[39m, \u001b[38;5;124m'\u001b[39m\u001b[38;5;124mrfe\u001b[39m\u001b[38;5;124m'\u001b[39m, \u001b[38;5;124m'\u001b[39m\u001b[38;5;124mlog-reg\u001b[39m\u001b[38;5;124m'\u001b[39m, \u001b[38;5;124m'\u001b[39m\u001b[38;5;124mrf\u001b[39m\u001b[38;5;124m'\u001b[39m, \u001b[38;5;124m'\u001b[39m\u001b[38;5;124mlgbm\u001b[39m\u001b[38;5;124m'\u001b[39m]\n\u001b[0;32m      6\u001b[0m )\n\u001b[0;32m      7\u001b[0m \u001b[38;5;28mprint\u001b[39m(best_features)\n",
      "Cell \u001b[1;32mIn[94], line 10\u001b[0m, in \u001b[0;36mautoFeatureSelector\u001b[1;34m(dataset_path, target_column, methods)\u001b[0m\n\u001b[0;32m      8\u001b[0m     selected_features[\u001b[38;5;124m'\u001b[39m\u001b[38;5;124mpearson\u001b[39m\u001b[38;5;124m'\u001b[39m] \u001b[38;5;241m=\u001b[39m cor_support\n\u001b[0;32m      9\u001b[0m \u001b[38;5;28;01mif\u001b[39;00m \u001b[38;5;124m'\u001b[39m\u001b[38;5;124mchi-square\u001b[39m\u001b[38;5;124m'\u001b[39m \u001b[38;5;129;01min\u001b[39;00m methods:\n\u001b[1;32m---> 10\u001b[0m     chi_support, chi_feature \u001b[38;5;241m=\u001b[39m chi_squared_selector(X, y, num_feats)\n\u001b[0;32m     11\u001b[0m     selected_features[\u001b[38;5;124m'\u001b[39m\u001b[38;5;124mchi-square\u001b[39m\u001b[38;5;124m'\u001b[39m] \u001b[38;5;241m=\u001b[39m chi_support\n\u001b[0;32m     12\u001b[0m \u001b[38;5;28;01mif\u001b[39;00m \u001b[38;5;124m'\u001b[39m\u001b[38;5;124mrfe\u001b[39m\u001b[38;5;124m'\u001b[39m \u001b[38;5;129;01min\u001b[39;00m methods:\n",
      "Cell \u001b[1;32mIn[92], line 13\u001b[0m, in \u001b[0;36mchi_squared_selector\u001b[1;34m(X, y, num_feats)\u001b[0m\n\u001b[0;32m     11\u001b[0m \u001b[38;5;28;01mdef\u001b[39;00m \u001b[38;5;21mchi_squared_selector\u001b[39m(X, y, num_feats):\n\u001b[0;32m     12\u001b[0m     chi_selector \u001b[38;5;241m=\u001b[39m SelectKBest(chi2, k\u001b[38;5;241m=\u001b[39mnum_feats)\n\u001b[1;32m---> 13\u001b[0m     chi_selector\u001b[38;5;241m.\u001b[39mfit(X, y)\n\u001b[0;32m     14\u001b[0m     chi_support \u001b[38;5;241m=\u001b[39m chi_selector\u001b[38;5;241m.\u001b[39mget_support()\n\u001b[0;32m     15\u001b[0m     chi_feature \u001b[38;5;241m=\u001b[39m X\u001b[38;5;241m.\u001b[39mloc[:, chi_support]\u001b[38;5;241m.\u001b[39mcolumns\u001b[38;5;241m.\u001b[39mtolist()\n",
      "File \u001b[1;32m~\\anaconda3\\Lib\\site-packages\\sklearn\\base.py:1473\u001b[0m, in \u001b[0;36m_fit_context.<locals>.decorator.<locals>.wrapper\u001b[1;34m(estimator, *args, **kwargs)\u001b[0m\n\u001b[0;32m   1466\u001b[0m     estimator\u001b[38;5;241m.\u001b[39m_validate_params()\n\u001b[0;32m   1468\u001b[0m \u001b[38;5;28;01mwith\u001b[39;00m config_context(\n\u001b[0;32m   1469\u001b[0m     skip_parameter_validation\u001b[38;5;241m=\u001b[39m(\n\u001b[0;32m   1470\u001b[0m         prefer_skip_nested_validation \u001b[38;5;129;01mor\u001b[39;00m global_skip_validation\n\u001b[0;32m   1471\u001b[0m     )\n\u001b[0;32m   1472\u001b[0m ):\n\u001b[1;32m-> 1473\u001b[0m     \u001b[38;5;28;01mreturn\u001b[39;00m fit_method(estimator, \u001b[38;5;241m*\u001b[39margs, \u001b[38;5;241m*\u001b[39m\u001b[38;5;241m*\u001b[39mkwargs)\n",
      "File \u001b[1;32m~\\anaconda3\\Lib\\site-packages\\sklearn\\feature_selection\\_univariate_selection.py:562\u001b[0m, in \u001b[0;36m_BaseFilter.fit\u001b[1;34m(self, X, y)\u001b[0m\n\u001b[0;32m    560\u001b[0m     X \u001b[38;5;241m=\u001b[39m \u001b[38;5;28mself\u001b[39m\u001b[38;5;241m.\u001b[39m_validate_data(X, accept_sparse\u001b[38;5;241m=\u001b[39m[\u001b[38;5;124m\"\u001b[39m\u001b[38;5;124mcsr\u001b[39m\u001b[38;5;124m\"\u001b[39m, \u001b[38;5;124m\"\u001b[39m\u001b[38;5;124mcsc\u001b[39m\u001b[38;5;124m\"\u001b[39m])\n\u001b[0;32m    561\u001b[0m \u001b[38;5;28;01melse\u001b[39;00m:\n\u001b[1;32m--> 562\u001b[0m     X, y \u001b[38;5;241m=\u001b[39m \u001b[38;5;28mself\u001b[39m\u001b[38;5;241m.\u001b[39m_validate_data(\n\u001b[0;32m    563\u001b[0m         X, y, accept_sparse\u001b[38;5;241m=\u001b[39m[\u001b[38;5;124m\"\u001b[39m\u001b[38;5;124mcsr\u001b[39m\u001b[38;5;124m\"\u001b[39m, \u001b[38;5;124m\"\u001b[39m\u001b[38;5;124mcsc\u001b[39m\u001b[38;5;124m\"\u001b[39m], multi_output\u001b[38;5;241m=\u001b[39m\u001b[38;5;28;01mTrue\u001b[39;00m\n\u001b[0;32m    564\u001b[0m     )\n\u001b[0;32m    566\u001b[0m \u001b[38;5;28mself\u001b[39m\u001b[38;5;241m.\u001b[39m_check_params(X, y)\n\u001b[0;32m    567\u001b[0m score_func_ret \u001b[38;5;241m=\u001b[39m \u001b[38;5;28mself\u001b[39m\u001b[38;5;241m.\u001b[39mscore_func(X, y)\n",
      "File \u001b[1;32m~\\anaconda3\\Lib\\site-packages\\sklearn\\base.py:650\u001b[0m, in \u001b[0;36mBaseEstimator._validate_data\u001b[1;34m(self, X, y, reset, validate_separately, cast_to_ndarray, **check_params)\u001b[0m\n\u001b[0;32m    648\u001b[0m         y \u001b[38;5;241m=\u001b[39m check_array(y, input_name\u001b[38;5;241m=\u001b[39m\u001b[38;5;124m\"\u001b[39m\u001b[38;5;124my\u001b[39m\u001b[38;5;124m\"\u001b[39m, \u001b[38;5;241m*\u001b[39m\u001b[38;5;241m*\u001b[39mcheck_y_params)\n\u001b[0;32m    649\u001b[0m     \u001b[38;5;28;01melse\u001b[39;00m:\n\u001b[1;32m--> 650\u001b[0m         X, y \u001b[38;5;241m=\u001b[39m check_X_y(X, y, \u001b[38;5;241m*\u001b[39m\u001b[38;5;241m*\u001b[39mcheck_params)\n\u001b[0;32m    651\u001b[0m     out \u001b[38;5;241m=\u001b[39m X, y\n\u001b[0;32m    653\u001b[0m \u001b[38;5;28;01mif\u001b[39;00m \u001b[38;5;129;01mnot\u001b[39;00m no_val_X \u001b[38;5;129;01mand\u001b[39;00m check_params\u001b[38;5;241m.\u001b[39mget(\u001b[38;5;124m\"\u001b[39m\u001b[38;5;124mensure_2d\u001b[39m\u001b[38;5;124m\"\u001b[39m, \u001b[38;5;28;01mTrue\u001b[39;00m):\n",
      "File \u001b[1;32m~\\anaconda3\\Lib\\site-packages\\sklearn\\utils\\validation.py:1301\u001b[0m, in \u001b[0;36mcheck_X_y\u001b[1;34m(X, y, accept_sparse, accept_large_sparse, dtype, order, copy, force_writeable, force_all_finite, ensure_2d, allow_nd, multi_output, ensure_min_samples, ensure_min_features, y_numeric, estimator)\u001b[0m\n\u001b[0;32m   1296\u001b[0m         estimator_name \u001b[38;5;241m=\u001b[39m _check_estimator_name(estimator)\n\u001b[0;32m   1297\u001b[0m     \u001b[38;5;28;01mraise\u001b[39;00m \u001b[38;5;167;01mValueError\u001b[39;00m(\n\u001b[0;32m   1298\u001b[0m         \u001b[38;5;124mf\u001b[39m\u001b[38;5;124m\"\u001b[39m\u001b[38;5;132;01m{\u001b[39;00mestimator_name\u001b[38;5;132;01m}\u001b[39;00m\u001b[38;5;124m requires y to be passed, but the target y is None\u001b[39m\u001b[38;5;124m\"\u001b[39m\n\u001b[0;32m   1299\u001b[0m     )\n\u001b[1;32m-> 1301\u001b[0m X \u001b[38;5;241m=\u001b[39m check_array(\n\u001b[0;32m   1302\u001b[0m     X,\n\u001b[0;32m   1303\u001b[0m     accept_sparse\u001b[38;5;241m=\u001b[39maccept_sparse,\n\u001b[0;32m   1304\u001b[0m     accept_large_sparse\u001b[38;5;241m=\u001b[39maccept_large_sparse,\n\u001b[0;32m   1305\u001b[0m     dtype\u001b[38;5;241m=\u001b[39mdtype,\n\u001b[0;32m   1306\u001b[0m     order\u001b[38;5;241m=\u001b[39morder,\n\u001b[0;32m   1307\u001b[0m     copy\u001b[38;5;241m=\u001b[39mcopy,\n\u001b[0;32m   1308\u001b[0m     force_writeable\u001b[38;5;241m=\u001b[39mforce_writeable,\n\u001b[0;32m   1309\u001b[0m     force_all_finite\u001b[38;5;241m=\u001b[39mforce_all_finite,\n\u001b[0;32m   1310\u001b[0m     ensure_2d\u001b[38;5;241m=\u001b[39mensure_2d,\n\u001b[0;32m   1311\u001b[0m     allow_nd\u001b[38;5;241m=\u001b[39mallow_nd,\n\u001b[0;32m   1312\u001b[0m     ensure_min_samples\u001b[38;5;241m=\u001b[39mensure_min_samples,\n\u001b[0;32m   1313\u001b[0m     ensure_min_features\u001b[38;5;241m=\u001b[39mensure_min_features,\n\u001b[0;32m   1314\u001b[0m     estimator\u001b[38;5;241m=\u001b[39mestimator,\n\u001b[0;32m   1315\u001b[0m     input_name\u001b[38;5;241m=\u001b[39m\u001b[38;5;124m\"\u001b[39m\u001b[38;5;124mX\u001b[39m\u001b[38;5;124m\"\u001b[39m,\n\u001b[0;32m   1316\u001b[0m )\n\u001b[0;32m   1318\u001b[0m y \u001b[38;5;241m=\u001b[39m _check_y(y, multi_output\u001b[38;5;241m=\u001b[39mmulti_output, y_numeric\u001b[38;5;241m=\u001b[39my_numeric, estimator\u001b[38;5;241m=\u001b[39mestimator)\n\u001b[0;32m   1320\u001b[0m check_consistent_length(X, y)\n",
      "File \u001b[1;32m~\\anaconda3\\Lib\\site-packages\\sklearn\\utils\\validation.py:1064\u001b[0m, in \u001b[0;36mcheck_array\u001b[1;34m(array, accept_sparse, accept_large_sparse, dtype, order, copy, force_writeable, force_all_finite, ensure_2d, allow_nd, ensure_min_samples, ensure_min_features, estimator, input_name)\u001b[0m\n\u001b[0;32m   1058\u001b[0m     \u001b[38;5;28;01mraise\u001b[39;00m \u001b[38;5;167;01mValueError\u001b[39;00m(\n\u001b[0;32m   1059\u001b[0m         \u001b[38;5;124m\"\u001b[39m\u001b[38;5;124mFound array with dim \u001b[39m\u001b[38;5;132;01m%d\u001b[39;00m\u001b[38;5;124m. \u001b[39m\u001b[38;5;132;01m%s\u001b[39;00m\u001b[38;5;124m expected <= 2.\u001b[39m\u001b[38;5;124m\"\u001b[39m\n\u001b[0;32m   1060\u001b[0m         \u001b[38;5;241m%\u001b[39m (array\u001b[38;5;241m.\u001b[39mndim, estimator_name)\n\u001b[0;32m   1061\u001b[0m     )\n\u001b[0;32m   1063\u001b[0m \u001b[38;5;28;01mif\u001b[39;00m force_all_finite:\n\u001b[1;32m-> 1064\u001b[0m     _assert_all_finite(\n\u001b[0;32m   1065\u001b[0m         array,\n\u001b[0;32m   1066\u001b[0m         input_name\u001b[38;5;241m=\u001b[39minput_name,\n\u001b[0;32m   1067\u001b[0m         estimator_name\u001b[38;5;241m=\u001b[39mestimator_name,\n\u001b[0;32m   1068\u001b[0m         allow_nan\u001b[38;5;241m=\u001b[39mforce_all_finite \u001b[38;5;241m==\u001b[39m \u001b[38;5;124m\"\u001b[39m\u001b[38;5;124mallow-nan\u001b[39m\u001b[38;5;124m\"\u001b[39m,\n\u001b[0;32m   1069\u001b[0m     )\n\u001b[0;32m   1071\u001b[0m \u001b[38;5;28;01mif\u001b[39;00m copy:\n\u001b[0;32m   1072\u001b[0m     \u001b[38;5;28;01mif\u001b[39;00m _is_numpy_namespace(xp):\n\u001b[0;32m   1073\u001b[0m         \u001b[38;5;66;03m# only make a copy if `array` and `array_orig` may share memory`\u001b[39;00m\n",
      "File \u001b[1;32m~\\anaconda3\\Lib\\site-packages\\sklearn\\utils\\validation.py:123\u001b[0m, in \u001b[0;36m_assert_all_finite\u001b[1;34m(X, allow_nan, msg_dtype, estimator_name, input_name)\u001b[0m\n\u001b[0;32m    120\u001b[0m \u001b[38;5;28;01mif\u001b[39;00m first_pass_isfinite:\n\u001b[0;32m    121\u001b[0m     \u001b[38;5;28;01mreturn\u001b[39;00m\n\u001b[1;32m--> 123\u001b[0m _assert_all_finite_element_wise(\n\u001b[0;32m    124\u001b[0m     X,\n\u001b[0;32m    125\u001b[0m     xp\u001b[38;5;241m=\u001b[39mxp,\n\u001b[0;32m    126\u001b[0m     allow_nan\u001b[38;5;241m=\u001b[39mallow_nan,\n\u001b[0;32m    127\u001b[0m     msg_dtype\u001b[38;5;241m=\u001b[39mmsg_dtype,\n\u001b[0;32m    128\u001b[0m     estimator_name\u001b[38;5;241m=\u001b[39mestimator_name,\n\u001b[0;32m    129\u001b[0m     input_name\u001b[38;5;241m=\u001b[39minput_name,\n\u001b[0;32m    130\u001b[0m )\n",
      "File \u001b[1;32m~\\anaconda3\\Lib\\site-packages\\sklearn\\utils\\validation.py:172\u001b[0m, in \u001b[0;36m_assert_all_finite_element_wise\u001b[1;34m(X, xp, allow_nan, msg_dtype, estimator_name, input_name)\u001b[0m\n\u001b[0;32m    155\u001b[0m \u001b[38;5;28;01mif\u001b[39;00m estimator_name \u001b[38;5;129;01mand\u001b[39;00m input_name \u001b[38;5;241m==\u001b[39m \u001b[38;5;124m\"\u001b[39m\u001b[38;5;124mX\u001b[39m\u001b[38;5;124m\"\u001b[39m \u001b[38;5;129;01mand\u001b[39;00m has_nan_error:\n\u001b[0;32m    156\u001b[0m     \u001b[38;5;66;03m# Improve the error message on how to handle missing values in\u001b[39;00m\n\u001b[0;32m    157\u001b[0m     \u001b[38;5;66;03m# scikit-learn.\u001b[39;00m\n\u001b[0;32m    158\u001b[0m     msg_err \u001b[38;5;241m+\u001b[39m\u001b[38;5;241m=\u001b[39m (\n\u001b[0;32m    159\u001b[0m         \u001b[38;5;124mf\u001b[39m\u001b[38;5;124m\"\u001b[39m\u001b[38;5;130;01m\\n\u001b[39;00m\u001b[38;5;132;01m{\u001b[39;00mestimator_name\u001b[38;5;132;01m}\u001b[39;00m\u001b[38;5;124m does not accept missing values\u001b[39m\u001b[38;5;124m\"\u001b[39m\n\u001b[0;32m    160\u001b[0m         \u001b[38;5;124m\"\u001b[39m\u001b[38;5;124m encoded as NaN natively. For supervised learning, you might want\u001b[39m\u001b[38;5;124m\"\u001b[39m\n\u001b[1;32m   (...)\u001b[0m\n\u001b[0;32m    170\u001b[0m         \u001b[38;5;124m\"\u001b[39m\u001b[38;5;124m#estimators-that-handle-nan-values\u001b[39m\u001b[38;5;124m\"\u001b[39m\n\u001b[0;32m    171\u001b[0m     )\n\u001b[1;32m--> 172\u001b[0m \u001b[38;5;28;01mraise\u001b[39;00m \u001b[38;5;167;01mValueError\u001b[39;00m(msg_err)\n",
      "\u001b[1;31mValueError\u001b[0m: Input X contains NaN.\nSelectKBest does not accept missing values encoded as NaN natively. For supervised learning, you might want to consider sklearn.ensemble.HistGradientBoostingClassifier and Regressor which accept missing values encoded as NaNs natively. Alternatively, it is possible to preprocess the data, for instance by using an imputer transformer in a pipeline or drop samples with missing values. See https://scikit-learn.org/stable/modules/impute.html You can find a list of all estimators that handle NaN values at the following page: https://scikit-learn.org/stable/modules/impute.html#estimators-that-handle-nan-values"
     ]
    }
   ],
   "source": [
    "# Run the function\n",
    "best_features = autoFeatureSelector(\n",
    "    dataset_path=\"fifa19.csv\", \n",
    "    target_column='Overall', \n",
    "    methods=['pearson', 'chi-square', 'rfe', 'log-reg', 'rf', 'lgbm']\n",
    ")\n",
    "print(best_features)"
   ]
  },
  {
   "cell_type": "code",
   "execution_count": 107,
   "metadata": {},
   "outputs": [],
   "source": [
    "from sklearn.feature_selection import mutual_info_classif\n"
   ]
  },
  {
   "cell_type": "code",
   "execution_count": 121,
   "metadata": {},
   "outputs": [
    {
     "ename": "LightGBMError",
     "evalue": "Do not support special JSON characters in feature name.",
     "output_type": "error",
     "traceback": [
      "\u001b[1;31m---------------------------------------------------------------------------\u001b[0m",
      "\u001b[1;31mLightGBMError\u001b[0m                             Traceback (most recent call last)",
      "Cell \u001b[1;32mIn[121], line 85\u001b[0m\n\u001b[0;32m     82\u001b[0m     \u001b[38;5;28;01mreturn\u001b[39;00m selected_features\n\u001b[0;32m     84\u001b[0m \u001b[38;5;66;03m# Run the function\u001b[39;00m\n\u001b[1;32m---> 85\u001b[0m best_features \u001b[38;5;241m=\u001b[39m autoFeatureSelector(\n\u001b[0;32m     86\u001b[0m     dataset_path\u001b[38;5;241m=\u001b[39m\u001b[38;5;124m\"\u001b[39m\u001b[38;5;124mfifa19.csv\u001b[39m\u001b[38;5;124m\"\u001b[39m, \n\u001b[0;32m     87\u001b[0m     target_column\u001b[38;5;241m=\u001b[39m\u001b[38;5;124m'\u001b[39m\u001b[38;5;124mOverall\u001b[39m\u001b[38;5;124m'\u001b[39m, \n\u001b[0;32m     88\u001b[0m     methods\u001b[38;5;241m=\u001b[39m[\u001b[38;5;124m'\u001b[39m\u001b[38;5;124mpearson\u001b[39m\u001b[38;5;124m'\u001b[39m, \u001b[38;5;124m'\u001b[39m\u001b[38;5;124mchi-square\u001b[39m\u001b[38;5;124m'\u001b[39m, \u001b[38;5;124m'\u001b[39m\u001b[38;5;124mrfe\u001b[39m\u001b[38;5;124m'\u001b[39m, \u001b[38;5;124m'\u001b[39m\u001b[38;5;124mlog-reg\u001b[39m\u001b[38;5;124m'\u001b[39m, \u001b[38;5;124m'\u001b[39m\u001b[38;5;124mrf\u001b[39m\u001b[38;5;124m'\u001b[39m, \u001b[38;5;124m'\u001b[39m\u001b[38;5;124mlgbm\u001b[39m\u001b[38;5;124m'\u001b[39m]\n\u001b[0;32m     89\u001b[0m )\n\u001b[0;32m     90\u001b[0m \u001b[38;5;28mprint\u001b[39m(best_features)\n",
      "Cell \u001b[1;32mIn[121], line 78\u001b[0m, in \u001b[0;36mautoFeatureSelector\u001b[1;34m(dataset_path, target_column, methods, num_feats)\u001b[0m\n\u001b[0;32m     76\u001b[0m \u001b[38;5;28;01mif\u001b[39;00m \u001b[38;5;124m'\u001b[39m\u001b[38;5;124mlgbm\u001b[39m\u001b[38;5;124m'\u001b[39m \u001b[38;5;129;01min\u001b[39;00m methods:\n\u001b[0;32m     77\u001b[0m     lgb_model \u001b[38;5;241m=\u001b[39m lgb\u001b[38;5;241m.\u001b[39mLGBMClassifier()\n\u001b[1;32m---> 78\u001b[0m     lgb_model\u001b[38;5;241m.\u001b[39mfit(X_scaled, y)\n\u001b[0;32m     79\u001b[0m     lgb_importances \u001b[38;5;241m=\u001b[39m pd\u001b[38;5;241m.\u001b[39mSeries(lgb_model\u001b[38;5;241m.\u001b[39mfeature_importances_, index\u001b[38;5;241m=\u001b[39mnumeric_cols)\n\u001b[0;32m     80\u001b[0m     selected_features[\u001b[38;5;124m'\u001b[39m\u001b[38;5;124mlgbm\u001b[39m\u001b[38;5;124m'\u001b[39m] \u001b[38;5;241m=\u001b[39m lgb_importances\u001b[38;5;241m.\u001b[39mnlargest(num_feats)\u001b[38;5;241m.\u001b[39mindex\u001b[38;5;241m.\u001b[39mtolist()\n",
      "File \u001b[1;32m~\\anaconda3\\Lib\\site-packages\\lightgbm\\sklearn.py:1284\u001b[0m, in \u001b[0;36mLGBMClassifier.fit\u001b[1;34m(self, X, y, sample_weight, init_score, eval_set, eval_names, eval_sample_weight, eval_class_weight, eval_init_score, eval_metric, feature_name, categorical_feature, callbacks, init_model)\u001b[0m\n\u001b[0;32m   1281\u001b[0m         \u001b[38;5;28;01melse\u001b[39;00m:\n\u001b[0;32m   1282\u001b[0m             valid_sets\u001b[38;5;241m.\u001b[39mappend((valid_x, \u001b[38;5;28mself\u001b[39m\u001b[38;5;241m.\u001b[39m_le\u001b[38;5;241m.\u001b[39mtransform(valid_y)))\n\u001b[1;32m-> 1284\u001b[0m \u001b[38;5;28msuper\u001b[39m()\u001b[38;5;241m.\u001b[39mfit(\n\u001b[0;32m   1285\u001b[0m     X,\n\u001b[0;32m   1286\u001b[0m     _y,\n\u001b[0;32m   1287\u001b[0m     sample_weight\u001b[38;5;241m=\u001b[39msample_weight,\n\u001b[0;32m   1288\u001b[0m     init_score\u001b[38;5;241m=\u001b[39minit_score,\n\u001b[0;32m   1289\u001b[0m     eval_set\u001b[38;5;241m=\u001b[39mvalid_sets,\n\u001b[0;32m   1290\u001b[0m     eval_names\u001b[38;5;241m=\u001b[39meval_names,\n\u001b[0;32m   1291\u001b[0m     eval_sample_weight\u001b[38;5;241m=\u001b[39meval_sample_weight,\n\u001b[0;32m   1292\u001b[0m     eval_class_weight\u001b[38;5;241m=\u001b[39meval_class_weight,\n\u001b[0;32m   1293\u001b[0m     eval_init_score\u001b[38;5;241m=\u001b[39meval_init_score,\n\u001b[0;32m   1294\u001b[0m     eval_metric\u001b[38;5;241m=\u001b[39meval_metric,\n\u001b[0;32m   1295\u001b[0m     feature_name\u001b[38;5;241m=\u001b[39mfeature_name,\n\u001b[0;32m   1296\u001b[0m     categorical_feature\u001b[38;5;241m=\u001b[39mcategorical_feature,\n\u001b[0;32m   1297\u001b[0m     callbacks\u001b[38;5;241m=\u001b[39mcallbacks,\n\u001b[0;32m   1298\u001b[0m     init_model\u001b[38;5;241m=\u001b[39minit_model,\n\u001b[0;32m   1299\u001b[0m )\n\u001b[0;32m   1300\u001b[0m \u001b[38;5;28;01mreturn\u001b[39;00m \u001b[38;5;28mself\u001b[39m\n",
      "File \u001b[1;32m~\\anaconda3\\Lib\\site-packages\\lightgbm\\sklearn.py:955\u001b[0m, in \u001b[0;36mLGBMModel.fit\u001b[1;34m(self, X, y, sample_weight, init_score, group, eval_set, eval_names, eval_sample_weight, eval_class_weight, eval_init_score, eval_group, eval_metric, feature_name, categorical_feature, callbacks, init_model)\u001b[0m\n\u001b[0;32m    952\u001b[0m evals_result: _EvalResultDict \u001b[38;5;241m=\u001b[39m {}\n\u001b[0;32m    953\u001b[0m callbacks\u001b[38;5;241m.\u001b[39mappend(record_evaluation(evals_result))\n\u001b[1;32m--> 955\u001b[0m \u001b[38;5;28mself\u001b[39m\u001b[38;5;241m.\u001b[39m_Booster \u001b[38;5;241m=\u001b[39m train(\n\u001b[0;32m    956\u001b[0m     params\u001b[38;5;241m=\u001b[39mparams,\n\u001b[0;32m    957\u001b[0m     train_set\u001b[38;5;241m=\u001b[39mtrain_set,\n\u001b[0;32m    958\u001b[0m     num_boost_round\u001b[38;5;241m=\u001b[39m\u001b[38;5;28mself\u001b[39m\u001b[38;5;241m.\u001b[39mn_estimators,\n\u001b[0;32m    959\u001b[0m     valid_sets\u001b[38;5;241m=\u001b[39mvalid_sets,\n\u001b[0;32m    960\u001b[0m     valid_names\u001b[38;5;241m=\u001b[39meval_names,\n\u001b[0;32m    961\u001b[0m     feval\u001b[38;5;241m=\u001b[39meval_metrics_callable,  \u001b[38;5;66;03m# type: ignore[arg-type]\u001b[39;00m\n\u001b[0;32m    962\u001b[0m     init_model\u001b[38;5;241m=\u001b[39minit_model,\n\u001b[0;32m    963\u001b[0m     callbacks\u001b[38;5;241m=\u001b[39mcallbacks,\n\u001b[0;32m    964\u001b[0m )\n\u001b[0;32m    966\u001b[0m \u001b[38;5;28mself\u001b[39m\u001b[38;5;241m.\u001b[39m_evals_result \u001b[38;5;241m=\u001b[39m evals_result\n\u001b[0;32m    967\u001b[0m \u001b[38;5;28mself\u001b[39m\u001b[38;5;241m.\u001b[39m_best_iteration \u001b[38;5;241m=\u001b[39m \u001b[38;5;28mself\u001b[39m\u001b[38;5;241m.\u001b[39m_Booster\u001b[38;5;241m.\u001b[39mbest_iteration\n",
      "File \u001b[1;32m~\\anaconda3\\Lib\\site-packages\\lightgbm\\engine.py:282\u001b[0m, in \u001b[0;36mtrain\u001b[1;34m(params, train_set, num_boost_round, valid_sets, valid_names, feval, init_model, feature_name, categorical_feature, keep_training_booster, callbacks)\u001b[0m\n\u001b[0;32m    280\u001b[0m \u001b[38;5;66;03m# construct booster\u001b[39;00m\n\u001b[0;32m    281\u001b[0m \u001b[38;5;28;01mtry\u001b[39;00m:\n\u001b[1;32m--> 282\u001b[0m     booster \u001b[38;5;241m=\u001b[39m Booster(params\u001b[38;5;241m=\u001b[39mparams, train_set\u001b[38;5;241m=\u001b[39mtrain_set)\n\u001b[0;32m    283\u001b[0m     \u001b[38;5;28;01mif\u001b[39;00m is_valid_contain_train:\n\u001b[0;32m    284\u001b[0m         booster\u001b[38;5;241m.\u001b[39mset_train_data_name(train_data_name)\n",
      "File \u001b[1;32m~\\anaconda3\\Lib\\site-packages\\lightgbm\\basic.py:3637\u001b[0m, in \u001b[0;36mBooster.__init__\u001b[1;34m(self, params, train_set, model_file, model_str)\u001b[0m\n\u001b[0;32m   3630\u001b[0m     \u001b[38;5;28mself\u001b[39m\u001b[38;5;241m.\u001b[39mset_network(\n\u001b[0;32m   3631\u001b[0m         machines\u001b[38;5;241m=\u001b[39mmachines,\n\u001b[0;32m   3632\u001b[0m         local_listen_port\u001b[38;5;241m=\u001b[39mparams[\u001b[38;5;124m\"\u001b[39m\u001b[38;5;124mlocal_listen_port\u001b[39m\u001b[38;5;124m\"\u001b[39m],\n\u001b[0;32m   3633\u001b[0m         listen_time_out\u001b[38;5;241m=\u001b[39mparams\u001b[38;5;241m.\u001b[39mget(\u001b[38;5;124m\"\u001b[39m\u001b[38;5;124mtime_out\u001b[39m\u001b[38;5;124m\"\u001b[39m, \u001b[38;5;241m120\u001b[39m),\n\u001b[0;32m   3634\u001b[0m         num_machines\u001b[38;5;241m=\u001b[39mparams[\u001b[38;5;124m\"\u001b[39m\u001b[38;5;124mnum_machines\u001b[39m\u001b[38;5;124m\"\u001b[39m],\n\u001b[0;32m   3635\u001b[0m     )\n\u001b[0;32m   3636\u001b[0m \u001b[38;5;66;03m# construct booster object\u001b[39;00m\n\u001b[1;32m-> 3637\u001b[0m train_set\u001b[38;5;241m.\u001b[39mconstruct()\n\u001b[0;32m   3638\u001b[0m \u001b[38;5;66;03m# copy the parameters from train_set\u001b[39;00m\n\u001b[0;32m   3639\u001b[0m params\u001b[38;5;241m.\u001b[39mupdate(train_set\u001b[38;5;241m.\u001b[39mget_params())\n",
      "File \u001b[1;32m~\\anaconda3\\Lib\\site-packages\\lightgbm\\basic.py:2576\u001b[0m, in \u001b[0;36mDataset.construct\u001b[1;34m(self)\u001b[0m\n\u001b[0;32m   2571\u001b[0m             \u001b[38;5;28mself\u001b[39m\u001b[38;5;241m.\u001b[39m_set_init_score_by_predictor(\n\u001b[0;32m   2572\u001b[0m                 predictor\u001b[38;5;241m=\u001b[39m\u001b[38;5;28mself\u001b[39m\u001b[38;5;241m.\u001b[39m_predictor, data\u001b[38;5;241m=\u001b[39m\u001b[38;5;28mself\u001b[39m\u001b[38;5;241m.\u001b[39mdata, used_indices\u001b[38;5;241m=\u001b[39mused_indices\n\u001b[0;32m   2573\u001b[0m             )\n\u001b[0;32m   2574\u001b[0m \u001b[38;5;28;01melse\u001b[39;00m:\n\u001b[0;32m   2575\u001b[0m     \u001b[38;5;66;03m# create train\u001b[39;00m\n\u001b[1;32m-> 2576\u001b[0m     \u001b[38;5;28mself\u001b[39m\u001b[38;5;241m.\u001b[39m_lazy_init(\n\u001b[0;32m   2577\u001b[0m         data\u001b[38;5;241m=\u001b[39m\u001b[38;5;28mself\u001b[39m\u001b[38;5;241m.\u001b[39mdata,\n\u001b[0;32m   2578\u001b[0m         label\u001b[38;5;241m=\u001b[39m\u001b[38;5;28mself\u001b[39m\u001b[38;5;241m.\u001b[39mlabel,\n\u001b[0;32m   2579\u001b[0m         reference\u001b[38;5;241m=\u001b[39m\u001b[38;5;28;01mNone\u001b[39;00m,\n\u001b[0;32m   2580\u001b[0m         weight\u001b[38;5;241m=\u001b[39m\u001b[38;5;28mself\u001b[39m\u001b[38;5;241m.\u001b[39mweight,\n\u001b[0;32m   2581\u001b[0m         group\u001b[38;5;241m=\u001b[39m\u001b[38;5;28mself\u001b[39m\u001b[38;5;241m.\u001b[39mgroup,\n\u001b[0;32m   2582\u001b[0m         init_score\u001b[38;5;241m=\u001b[39m\u001b[38;5;28mself\u001b[39m\u001b[38;5;241m.\u001b[39minit_score,\n\u001b[0;32m   2583\u001b[0m         predictor\u001b[38;5;241m=\u001b[39m\u001b[38;5;28mself\u001b[39m\u001b[38;5;241m.\u001b[39m_predictor,\n\u001b[0;32m   2584\u001b[0m         feature_name\u001b[38;5;241m=\u001b[39m\u001b[38;5;28mself\u001b[39m\u001b[38;5;241m.\u001b[39mfeature_name,\n\u001b[0;32m   2585\u001b[0m         categorical_feature\u001b[38;5;241m=\u001b[39m\u001b[38;5;28mself\u001b[39m\u001b[38;5;241m.\u001b[39mcategorical_feature,\n\u001b[0;32m   2586\u001b[0m         params\u001b[38;5;241m=\u001b[39m\u001b[38;5;28mself\u001b[39m\u001b[38;5;241m.\u001b[39mparams,\n\u001b[0;32m   2587\u001b[0m         position\u001b[38;5;241m=\u001b[39m\u001b[38;5;28mself\u001b[39m\u001b[38;5;241m.\u001b[39mposition,\n\u001b[0;32m   2588\u001b[0m     )\n\u001b[0;32m   2589\u001b[0m \u001b[38;5;28;01mif\u001b[39;00m \u001b[38;5;28mself\u001b[39m\u001b[38;5;241m.\u001b[39mfree_raw_data:\n\u001b[0;32m   2590\u001b[0m     \u001b[38;5;28mself\u001b[39m\u001b[38;5;241m.\u001b[39mdata \u001b[38;5;241m=\u001b[39m \u001b[38;5;28;01mNone\u001b[39;00m\n",
      "File \u001b[1;32m~\\anaconda3\\Lib\\site-packages\\lightgbm\\basic.py:2208\u001b[0m, in \u001b[0;36mDataset._lazy_init\u001b[1;34m(self, data, label, reference, weight, group, init_score, predictor, feature_name, categorical_feature, params, position)\u001b[0m\n\u001b[0;32m   2206\u001b[0m     \u001b[38;5;28;01mraise\u001b[39;00m \u001b[38;5;167;01mTypeError\u001b[39;00m(\u001b[38;5;124mf\u001b[39m\u001b[38;5;124m\"\u001b[39m\u001b[38;5;124mWrong predictor type \u001b[39m\u001b[38;5;132;01m{\u001b[39;00m\u001b[38;5;28mtype\u001b[39m(predictor)\u001b[38;5;241m.\u001b[39m\u001b[38;5;18m__name__\u001b[39m\u001b[38;5;132;01m}\u001b[39;00m\u001b[38;5;124m\"\u001b[39m)\n\u001b[0;32m   2207\u001b[0m \u001b[38;5;66;03m# set feature names\u001b[39;00m\n\u001b[1;32m-> 2208\u001b[0m \u001b[38;5;28;01mreturn\u001b[39;00m \u001b[38;5;28mself\u001b[39m\u001b[38;5;241m.\u001b[39mset_feature_name(feature_name)\n",
      "File \u001b[1;32m~\\anaconda3\\Lib\\site-packages\\lightgbm\\basic.py:3032\u001b[0m, in \u001b[0;36mDataset.set_feature_name\u001b[1;34m(self, feature_name)\u001b[0m\n\u001b[0;32m   3028\u001b[0m         \u001b[38;5;28;01mraise\u001b[39;00m \u001b[38;5;167;01mValueError\u001b[39;00m(\n\u001b[0;32m   3029\u001b[0m             \u001b[38;5;124mf\u001b[39m\u001b[38;5;124m\"\u001b[39m\u001b[38;5;124mLength of feature_name(\u001b[39m\u001b[38;5;132;01m{\u001b[39;00m\u001b[38;5;28mlen\u001b[39m(feature_name)\u001b[38;5;132;01m}\u001b[39;00m\u001b[38;5;124m) and num_feature(\u001b[39m\u001b[38;5;132;01m{\u001b[39;00m\u001b[38;5;28mself\u001b[39m\u001b[38;5;241m.\u001b[39mnum_feature()\u001b[38;5;132;01m}\u001b[39;00m\u001b[38;5;124m) don\u001b[39m\u001b[38;5;124m'\u001b[39m\u001b[38;5;124mt match\u001b[39m\u001b[38;5;124m\"\u001b[39m\n\u001b[0;32m   3030\u001b[0m         )\n\u001b[0;32m   3031\u001b[0m     c_feature_name \u001b[38;5;241m=\u001b[39m [_c_str(name) \u001b[38;5;28;01mfor\u001b[39;00m name \u001b[38;5;129;01min\u001b[39;00m feature_name]\n\u001b[1;32m-> 3032\u001b[0m     _safe_call(\n\u001b[0;32m   3033\u001b[0m         _LIB\u001b[38;5;241m.\u001b[39mLGBM_DatasetSetFeatureNames(\n\u001b[0;32m   3034\u001b[0m             \u001b[38;5;28mself\u001b[39m\u001b[38;5;241m.\u001b[39m_handle,\n\u001b[0;32m   3035\u001b[0m             _c_array(ctypes\u001b[38;5;241m.\u001b[39mc_char_p, c_feature_name),\n\u001b[0;32m   3036\u001b[0m             ctypes\u001b[38;5;241m.\u001b[39mc_int(\u001b[38;5;28mlen\u001b[39m(feature_name)),\n\u001b[0;32m   3037\u001b[0m         )\n\u001b[0;32m   3038\u001b[0m     )\n\u001b[0;32m   3039\u001b[0m \u001b[38;5;28;01mreturn\u001b[39;00m \u001b[38;5;28mself\u001b[39m\n",
      "File \u001b[1;32m~\\anaconda3\\Lib\\site-packages\\lightgbm\\basic.py:296\u001b[0m, in \u001b[0;36m_safe_call\u001b[1;34m(ret)\u001b[0m\n\u001b[0;32m    288\u001b[0m \u001b[38;5;250m\u001b[39m\u001b[38;5;124;03m\"\"\"Check the return value from C API call.\u001b[39;00m\n\u001b[0;32m    289\u001b[0m \n\u001b[0;32m    290\u001b[0m \u001b[38;5;124;03mParameters\u001b[39;00m\n\u001b[1;32m   (...)\u001b[0m\n\u001b[0;32m    293\u001b[0m \u001b[38;5;124;03m    The return value from C API calls.\u001b[39;00m\n\u001b[0;32m    294\u001b[0m \u001b[38;5;124;03m\"\"\"\u001b[39;00m\n\u001b[0;32m    295\u001b[0m \u001b[38;5;28;01mif\u001b[39;00m ret \u001b[38;5;241m!=\u001b[39m \u001b[38;5;241m0\u001b[39m:\n\u001b[1;32m--> 296\u001b[0m     \u001b[38;5;28;01mraise\u001b[39;00m LightGBMError(_LIB\u001b[38;5;241m.\u001b[39mLGBM_GetLastError()\u001b[38;5;241m.\u001b[39mdecode(\u001b[38;5;124m\"\u001b[39m\u001b[38;5;124mutf-8\u001b[39m\u001b[38;5;124m\"\u001b[39m))\n",
      "\u001b[1;31mLightGBMError\u001b[0m: Do not support special JSON characters in feature name."
     ]
    }
   ],
   "source": [
    "import pandas as pd\n",
    "from sklearn.impute import SimpleImputer\n",
    "from sklearn.feature_selection import SelectKBest, chi2, RFE\n",
    "from sklearn.linear_model import LogisticRegression\n",
    "from sklearn.ensemble import RandomForestClassifier\n",
    "from sklearn.preprocessing import StandardScaler\n",
    "import lightgbm as lgb\n",
    "\n",
    "def autoFeatureSelector(dataset_path, target_column, methods, num_feats=10):\n",
    "    # Load the dataset\n",
    "    data = pd.read_csv(dataset_path)\n",
    "    \n",
    "    # Separate features (X) and target (y)\n",
    "    X = data.drop(columns=[target_column])\n",
    "    y = data[target_column]\n",
    "    \n",
    "    # Split numeric and non-numeric columns\n",
    "    numeric_cols = X.select_dtypes(include=['number']).columns\n",
    "    non_numeric_cols = X.select_dtypes(exclude=['number']).columns\n",
    "    \n",
    "    # Handle missing values\n",
    "    imputer_numeric = SimpleImputer(strategy='mean')  # For numeric columns\n",
    "    imputer_categorical = SimpleImputer(strategy='most_frequent')  # For categorical columns\n",
    "    \n",
    "    X_numeric = pd.DataFrame(imputer_numeric.fit_transform(X[numeric_cols]), columns=numeric_cols)\n",
    "    X_non_numeric = pd.DataFrame(imputer_categorical.fit_transform(X[non_numeric_cols]), columns=non_numeric_cols)\n",
    "    \n",
    "    # Combine numeric and non-numeric columns\n",
    "    X = pd.concat([X_numeric, X_non_numeric], axis=1)\n",
    "    \n",
    "    # Scale numeric data\n",
    "    scaler = StandardScaler()\n",
    "    X_scaled = pd.DataFrame(scaler.fit_transform(X_numeric), columns=numeric_cols)\n",
    "    \n",
    "    # Initialize a dictionary to store selected features\n",
    "    selected_features = {}\n",
    "    \n",
    "    # Pearson correlation\n",
    "    if 'pearson' in methods:\n",
    "        cor = X_scaled.corrwith(y).abs().sort_values(ascending=False)\n",
    "        cor_support = cor.head(num_feats).index.tolist()\n",
    "        selected_features['pearson'] = cor_support\n",
    "    \n",
    "    # Chi-square\n",
    "    if 'chi-square' in methods:\n",
    "        # Ensure all values in X_scaled are non-negative\n",
    "        X_scaled_non_negative = X_scaled - X_scaled.min(axis=0)\n",
    "        chi_selector = SelectKBest(chi2, k=num_feats)\n",
    "        chi_selector.fit(X_scaled_non_negative, y)\n",
    "        chi_support = chi_selector.get_support()\n",
    "        selected_features['chi-square'] = X_scaled_non_negative.loc[:, chi_support].columns.tolist()\n",
    "    \n",
    "    # Recursive Feature Elimination (RFE)\n",
    "    if 'rfe' in methods:\n",
    "        model = LogisticRegression(max_iter=1000)\n",
    "        rfe = RFE(model, n_features_to_select=num_feats)\n",
    "        rfe.fit(X_scaled, y)\n",
    "        rfe_support = rfe.get_support()\n",
    "        selected_features['rfe'] = X_scaled.loc[:, rfe_support].columns.tolist()\n",
    "    \n",
    "    # Logistic Regression\n",
    "    if 'log-reg' in methods:\n",
    "        log_model = LogisticRegression(max_iter=1000)\n",
    "        log_model.fit(X_scaled, y)\n",
    "        log_importances = pd.Series(log_model.coef_[0], index=numeric_cols)\n",
    "        selected_features['log-reg'] = log_importances.abs().nlargest(num_feats).index.tolist()\n",
    "    \n",
    "    # Random Forest\n",
    "    if 'rf' in methods:\n",
    "        rf_model = RandomForestClassifier()\n",
    "        rf_model.fit(X_scaled, y)\n",
    "        rf_importances = pd.Series(rf_model.feature_importances_, index=numeric_cols)\n",
    "        selected_features['rf'] = rf_importances.nlargest(num_feats).index.tolist()\n",
    "    \n",
    "    # LightGBM\n",
    "    if 'lgbm' in methods:\n",
    "        lgb_model = lgb.LGBMClassifier()\n",
    "        lgb_model.fit(X_scaled, y)\n",
    "        lgb_importances = pd.Series(lgb_model.feature_importances_, index=numeric_cols)\n",
    "        selected_features['lgbm'] = lgb_importances.nlargest(num_feats).index.tolist()\n",
    "    \n",
    "    return selected_features\n",
    "\n",
    "# Run the function\n",
    "best_features = autoFeatureSelector(\n",
    "    dataset_path=\"fifa19.csv\", \n",
    "    target_column='Overall', \n",
    "    methods=['pearson', 'chi-square', 'rfe', 'log-reg', 'rf', 'lgbm']\n",
    ")\n",
    "print(best_features)\n"
   ]
  },
  {
   "cell_type": "markdown",
   "metadata": {},
   "source": [
    "### Last, Can you turn this notebook into a python script, run it and submit the python (.py) file that takes dataset and list of methods as inputs and outputs the best features"
   ]
  },
  {
   "cell_type": "code",
   "execution_count": null,
   "metadata": {},
   "outputs": [],
   "source": []
  }
 ],
 "metadata": {
  "kernelspec": {
   "display_name": "Python 3 (ipykernel)",
   "language": "python",
   "name": "python3"
  },
  "language_info": {
   "codemirror_mode": {
    "name": "ipython",
    "version": 3
   },
   "file_extension": ".py",
   "mimetype": "text/x-python",
   "name": "python",
   "nbconvert_exporter": "python",
   "pygments_lexer": "ipython3",
   "version": "3.12.4"
  }
 },
 "nbformat": 4,
 "nbformat_minor": 4
}
